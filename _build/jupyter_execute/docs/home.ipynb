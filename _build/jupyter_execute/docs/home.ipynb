{
 "cells": [
  {
   "attachments": {},
   "cell_type": "markdown",
   "metadata": {},
   "source": [
    "# Introduction"
   ]
  },
  {
   "attachments": {},
   "cell_type": "markdown",
   "metadata": {},
   "source": [
    "## Who is the most popular music artist of all time?\n",
    "Music captures the soul of every human being, and has the abilty to cross all cultural boundries and altough \n",
    "everyone has a different taste in music, some people like pop others rap or electronic music or something else entirely, there are some artists that have made\n",
    "songs that are liked by virtually everyone and have become very popular, but who is the most popular artist of all time? From phsyically buying CDs to having all\n",
    "the music in the worlds available with the press of a button on Spotify, but are these record sales and streams the way to find the most popular artist or should we look at awards and ratings? We are going to use the data recorded from all these perspectives to find out the answer to that question."
   ]
  },
  {
   "attachments": {},
   "cell_type": "markdown",
   "metadata": {},
   "source": [
    "### Perspective 1\n",
    "To determine how successful an artist is, we can look at the amount of listeners they get in total or per time period. By looking at these numbers we can determine which artist is the most popular among people. The artist with the most amount of views and such will be the most successful."
   ]
  },
  {
   "attachments": {},
   "cell_type": "markdown",
   "metadata": {},
   "source": [
    "### Perspective 2\n",
    "To determine how successful an artist is, we can look at the ratings they receive, amount of awards they won, where they stand in rankings and such. By looking at these statistics we can determine which is artist is the most popular among people and critics. The artist with the best statistics will be the most successful."
   ]
  }
 ],
 "metadata": {
  "language_info": {
   "name": "python"
  }
 },
 "nbformat": 4,
 "nbformat_minor": 2
}