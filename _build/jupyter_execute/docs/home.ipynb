{
 "cells": [
  {
   "attachments": {},
   "cell_type": "markdown",
   "metadata": {},
   "source": [
    "# Introduction"
   ]
  },
  {
   "attachments": {},
   "cell_type": "markdown",
   "metadata": {},
   "source": [
    "# Who is the most popular msuic artist of all time?\n",
    "Music captures the soul of every human being, and has the abilty to cross all cultural boundries and altough \n",
    "everyone has a different taste in music, <br> some people like pop others rap or electronic music or something else entirely, there are some artists that have made <br>\n",
    "songs that are liked by virtually everyone and have become very popular, but who is the most popular artist of all time? <br> From phsyically buying CDs to having all\n",
    "the music in the worlds available with the press of a button on Spotify, but are these record sales and streams the way to find the most popular artist or should we look at awards and ratings?<br> We are going to use the data recorded from all these perspectives to find out the answer to that question."
   ]
  }
 ],
 "metadata": {
  "language_info": {
   "codemirror_mode": {
    "name": "ipython",
    "version": 3
   },
   "file_extension": ".py",
   "mimetype": "text/x-python",
   "name": "python",
   "nbconvert_exporter": "python",
   "pygments_lexer": "ipython3",
   "version": "3.11.3"
  }
 },
 "nbformat": 4,
 "nbformat_minor": 2
}