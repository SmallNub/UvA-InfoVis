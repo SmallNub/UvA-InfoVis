{
 "cells": [
  {
   "attachments": {},
   "cell_type": "markdown",
   "metadata": {},
   "source": [
    "# Conclusion"
   ]
  },
  {
   "attachments": {},
   "cell_type": "markdown",
   "metadata": {},
   "source": [
    "## Spotify\n",
    "Unfortunately from all our data and visuals we could not make any concrete conclusions. Depending on the way you look at the data you get completely different answers. If you would just look at the amount of streams on Spotify you will see that Bad Bunny is the most successful artist, he got the most amount streams from all songs in the weekly top 200 on Spotify which would make him the most successful artist on Spotify. But if we look at the popularity rating that Spotify provides you will see that Tool makes songs that are the most popular, which could make him the best Spotify artist."
   ]
  },
  {
   "attachments": {},
   "cell_type": "markdown",
   "metadata": {},
   "source": [
    "## Critics and sales\n",
    "Looking at the album sales, we see that mainly the 'older' artists are present. You will see that The Beatles have the most certified album sales, while Elvis Presley got the most Gold and Platinum certifications. Finally you have Garth Brooks which got the most diamond albums, which is the highest certification by RIAA. But if we end up looking at the grammy awards per artist, we see that Adele has the most. So looking at critics, we can not pick a decisive winner."
   ]
  },
  {
   "attachments": {},
   "cell_type": "markdown",
   "metadata": {},
   "source": [
    "## Correlation\n",
    "To try and connect our different graphs we decided to look at the correlation between the amount of streams and awards won. If we only looked at the artists that won an award and if we remove the extremes, we could see that the amount of awards does increase the amount of streams an artist might get on Spotify. Unfortunately it is still hard to see a clear winner using this graph. Since even though Adele has the most awards, there are still artists that earned less rewards, but got way more streams for their songs on Spotify."
   ]
  }
 ],
 "metadata": {
  "language_info": {
   "codemirror_mode": {
    "name": "ipython",
    "version": 3
   },
   "file_extension": ".py",
   "mimetype": "text/x-python",
   "name": "python",
   "nbconvert_exporter": "python",
   "pygments_lexer": "ipython3",
   "version": "3.11.3"
  }
 },
 "nbformat": 4,
 "nbformat_minor": 2
}