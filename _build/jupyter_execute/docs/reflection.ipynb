{
 "cells": [
  {
   "attachments": {},
   "cell_type": "markdown",
   "metadata": {},
   "source": [
    "# Reflection"
   ]
  },
  {
   "attachments": {},
   "cell_type": "markdown",
   "metadata": {},
   "source": [
    "## Received feedback\n",
    "The main points from the feedback by the TA and peers.\n",
    "- [There is no conclusion regarding the visuals](#there-is-no-conclusion-regarding-the-visuals)\n",
    "- [The boxplot visual is hard to read](#the-boxplot-visual-is-hard-to-read)\n",
    "- [Group visuals per perspective](#group-visuals-per-perspective)\n",
    "- [Support the perspectives using the visuals](#support-the-perspectives-using-the-visuals)\n",
    "- [More visuals with correlations](#more-visuals-with-correlations)"
   ]
  },
  {
   "attachments": {},
   "cell_type": "markdown",
   "metadata": {},
   "source": [
    "## Processed feedback"
   ]
  },
  {
   "attachments": {},
   "cell_type": "markdown",
   "metadata": {},
   "source": [
    "### There is no conclusion regarding the visuals\n",
    "We added a [conclusion](conclusion.ipynb) regarding our visuals and perspectives."
   ]
  },
  {
   "attachments": {},
   "cell_type": "markdown",
   "metadata": {},
   "source": [
    "### The boxplot visual is hard to read\n",
    "We could not fix the readability of the [boxplot](vis3.ipynb). We tried sorting with the median popularity, but that made it worse. We tried different graphs to show the data, but after testing we could not find any that made sense. Instead we added more text explaining it."
   ]
  },
  {
   "attachments": {},
   "cell_type": "markdown",
   "metadata": {},
   "source": [
    "### Group visuals per perspective\n",
    "We have named each visual accordingly and grouped them under their respective perspective."
   ]
  },
  {
   "attachments": {},
   "cell_type": "markdown",
   "metadata": {},
   "source": [
    "### Support the perspectives using the visuals\n",
    "Using the visuals we could make a [conclusion](conclusion.ipynb) about the perspectives."
   ]
  },
  {
   "attachments": {},
   "cell_type": "markdown",
   "metadata": {},
   "source": [
    "### More visuals with correlations\n",
    "We made two scatterplots ([Awards and streams](vis5.ipynb), [Album sales and streams](vis6.ipynb)) to look for correlations between datapoints. "
   ]
  }
 ],
 "metadata": {
  "language_info": {
   "name": "python"
  }
 },
 "nbformat": 4,
 "nbformat_minor": 2
}