{
 "cells": [
  {
   "attachments": {},
   "cell_type": "markdown",
   "metadata": {},
   "source": [
    "# Datasets and preprocessing\n",
    "\n",
    "For this project we found various datasets online to support our perspectives on this topic. After we gathered these datasets, we used preprocessing to clean and filter out the data. We also performed various transformations on the data to make it more useful for our purposes. This preprocessing consisted of mainly dropping unneeded columns, empty data and invalid data. Afterwards, some datasets also received transformations to make later usage easier."
   ]
  },
  {
   "cell_type": "code",
   "execution_count": 1,
   "metadata": {
    "tags": [
     "hide-input"
    ]
   },
   "outputs": [],
   "source": [
    "import pandas as pd\n",
    "\n",
    "def clean(labels: list[str], filename: str, index=0) -> None:\n",
    "    file = pd.read_csv('../origin/' + filename, index_col=index, low_memory=False)\n",
    "    file.drop(labels=labels, axis=1, inplace=True)\n",
    "    file.dropna(axis=0, how='any', inplace=True)\n",
    "    file.to_csv('../cleaned/' + filename)\n",
    "    print(file.head())"
   ]
  },
  {
   "attachments": {},
   "cell_type": "markdown",
   "metadata": {},
   "source": [
    "## Datasets used\n",
    "- [Spotify Weekly Top 200 Songs Streaming Data](#spotify-weekly-top-200-songs-streaming-data)\n",
    "- [RIAA Artists By Certified Album Units Sold](#riaa-artists-by-certified-album-units-sold)\n",
    "- [Data on Songs from Billboard 1999-2019](#data-on-songs-from-billboard-1999-2019)"
   ]
  },
  {
   "attachments": {},
   "cell_type": "markdown",
   "metadata": {},
   "source": [
    "## Spotify Weekly Top 200 Songs Streaming Data\n",
    "Source: https://www.kaggle.com/datasets/yelexa/spotify200\n",
    "\n",
    "This big dataset has a record of all the Spotify songs in the weekly top 200. It contains: the artist, the song name, from which album it is, the amount of streams and a lot more values. This is really useful because it can show us how many total streams each artist has. And how many streams each song has.\n",
    "\n",
    "### Actions performed on the dataset"
   ]
  },
  {
   "cell_type": "code",
   "execution_count": 2,
   "metadata": {
    "tags": [
     "hide-cell"
    ]
   },
   "outputs": [
    {
     "name": "stdout",
     "output_type": "stream",
     "text": [
      "  rank  artist_names artist_individual             track_name peak_rank  \\\n",
      "0    1  Paulo Londra      Paulo Londra                 Plan A         1   \n",
      "1    2           WOS               WOS           ARRANCARMELO         2   \n",
      "2    3  Paulo Londra      Paulo Londra                 Chance         3   \n",
      "3    5       Cris Mj           Cris Mj  Una Noche en Medellín         5   \n",
      "4    6        Emilia            Emilia          cuatro veinte         6   \n",
      "\n",
      "  previous_rank weeks_on_chart  streams        week  \n",
      "0             1              4  3003411  2022-04-14  \n",
      "1           129              2  2512175  2022-04-14  \n",
      "2            59              2  2408983  2022-04-14  \n",
      "3             5              8  2080139  2022-04-14  \n",
      "4             9              3  1923270  2022-04-14  \n"
     ]
    }
   ],
   "source": [
    "clean(['uri', 'artists_num', 'artist_id', 'artist_genre', 'artist_img', 'collab', 'album_cover', 'source', 'album_num_tracks', 'acousticness', 'instrumentalness', 'danceability', 'duration', 'energy', 'liveness', 'loudness', 'mode', 'speechiness', 'tempo', 'valence', 'key', 'pivot', 'country', 'region', 'language', 'release_date'], 'final.csv')"
   ]
  },
  {
   "attachments": {},
   "cell_type": "markdown",
   "metadata": {},
   "source": [
    "## RIAA Artists By Certified Album Units Sold\n",
    "Source: https://www.kaggle.com/datasets/darinhawley/riaa-artists-by-certified-units-sold\n",
    "\n",
    "This dataset contains records about artists and how many albums they sold, whether those albums are gold, platinum, multi-platinum, and diamond. This dataset originates from the RIAA’s database. This dataset was originally made for a quiz. We can use this to see how many sales each album of each artist has and how many platinum records they have. Using this we can see which artist is more successful by the RIAA.\n",
    "\n",
    "### Actions performed on the dataset"
   ]
  },
  {
   "cell_type": "code",
   "execution_count": 3,
   "metadata": {
    "tags": [
     "hide-cell"
    ]
   },
   "outputs": [
    {
     "name": "stdout",
     "output_type": "stream",
     "text": [
      "          Artist  Certified Units  Gold  Platinum  Multi-Platinum  Diamond\n",
      "0    THE BEATLES            183.0    48        42              26        6\n",
      "1   GARTH BROOKS            157.0    31        31              17        9\n",
      "2  ELVIS PRESLEY            139.0   101        57              25        1\n",
      "3         EAGLES            120.0    13        13              11        3\n",
      "4   LED ZEPPELIN            111.5    19        18              14        5\n"
     ]
    }
   ],
   "source": [
    "clean(['Artist ID'], 'riaakaggle.csv', False)"
   ]
  },
  {
   "attachments": {},
   "cell_type": "markdown",
   "metadata": {},
   "source": [
    "## Data on Songs from Billboard 1999-2019\n",
    "Source: https://www.kaggle.com/datasets/danield2255/data-on-songs-from-billboard-19992019\n",
    "\n",
    "This dataset was originally made for a research project at an university. The dataset contains multiple files about songs, artists and albums that appeared on Billboard. These records contain information like the amount of awards won, RIAA certificates received, rankings on Spotify, rankings on Billboard, amount of streams, song information, and album information. These datapoints are stored over multiple files to retain organization.\n",
    "\n",
    "### Actions performed on the dataset"
   ]
  },
  {
   "cell_type": "code",
   "execution_count": 4,
   "metadata": {
    "tags": [
     "hide-cell"
    ]
   },
   "outputs": [
    {
     "name": "stdout",
     "output_type": "stream",
     "text": [
      "           Artist  Followers  NumAlbums\n",
      "X                                      \n",
      "0      Ed Sheeran   52698756          8\n",
      "1   Justin Bieber   30711450         10\n",
      "2  Jonas Brothers    3069527         10\n",
      "3           Drake   41420478         11\n",
      "4     Chris Brown    9676862          6\n"
     ]
    }
   ],
   "source": [
    "clean(['Genres', 'Gender', 'Group.Solo', 'YearFirstAlbum'], 'artistDf.csv')"
   ]
  },
  {
   "cell_type": "code",
   "execution_count": 5,
   "metadata": {
    "tags": [
     "hide-cell"
    ]
   },
   "outputs": [
    {
     "name": "stdout",
     "output_type": "stream",
     "text": [
      "                     Artists           Name  Weekly.rank  Peak.position  \\\n",
      "1                   Lil Nas,  Old Town Road            1            1.0   \n",
      "3              Billie Eilish        Bad Guy            3            2.0   \n",
      "4                     Khalid           Talk            4            3.0   \n",
      "5  Ed Sheeran, Justin Bieber   I Don't Care            5            2.0   \n",
      "6             Jonas Brothers         Sucker            6            1.0   \n",
      "\n",
      "   Weeks.on.chart        Week              Date  \n",
      "1             7.0  2019-07-06     April 5, 2019  \n",
      "3            13.0  2019-07-06    March 29, 2019  \n",
      "4            20.0  2019-07-06  February 7, 2019  \n",
      "5             7.0  2019-07-06      May 10, 2019  \n",
      "6            17.0  2019-07-06     March 1, 2019  \n"
     ]
    }
   ],
   "source": [
    "clean(['Lyrics', 'Genre', 'Writing.Credits', 'Features'], 'billboardHot100_1999-2019.csv')"
   ]
  },
  {
   "cell_type": "code",
   "execution_count": 6,
   "metadata": {
    "tags": [
     "hide-cell"
    ]
   },
   "outputs": [
    {
     "name": "stdout",
     "output_type": "stream",
     "text": [
      "                                  Award           Artist\n",
      "0                     Album Of The Year  Kacey Musgraves\n",
      "1      Best Traditional Pop Vocal Album    Willie Nelson\n",
      "2                  Best Pop Vocal Album    Ariana Grande\n",
      "3           Best Dance/Electronic Album          Justice\n",
      "4  Best Contemporary Instrumental Album  Steve Gadd Band\n"
     ]
    }
   ],
   "source": [
    "clean(['Genre', 'Album', 'GrammyYear'], 'grammyAlbums_199-2019.csv')"
   ]
  },
  {
   "cell_type": "code",
   "execution_count": 7,
   "metadata": {
    "tags": [
     "hide-cell"
    ]
   },
   "outputs": [
    {
     "name": "stdout",
     "output_type": "stream",
     "text": [
      "                      GrammyAward  \\\n",
      "1              Record Of The Year   \n",
      "2                Song Of The Year   \n",
      "3       Best Pop Solo Performance   \n",
      "4  Best Pop Duo/Group Performance   \n",
      "5            Best Dance Recording   \n",
      "\n",
      "                                              Artist  \n",
      "1                                   Childish Gambino  \n",
      "2                                   Childish Gambino  \n",
      "3                                          Lady Gaga  \n",
      "4                         Lady Gaga & Bradley Cooper  \n",
      "5  Silk City & Dua Lipa Featuring Diplo & Mark Ro...  \n"
     ]
    }
   ],
   "source": [
    "clean(['X', 'GrammyYear', 'Genre', 'Name'], 'grammySongs_1999-2019.csv')"
   ]
  },
  {
   "cell_type": "code",
   "execution_count": 8,
   "metadata": {
    "tags": [
     "hide-cell"
    ]
   },
   "outputs": [
    {
     "name": "stdout",
     "output_type": "stream",
     "text": [
      "                     Album        Artist             Status\n",
      "0            GREATEST HITS  MARIAH CAREY  2x Multi-Platinum\n",
      "1              THE REMIXES  MARIAH CAREY               Gold\n",
      "2                    VIEWS         DRAKE  6x Multi-Platinum\n",
      "3                MAJOR KEY     DJ KHALED        1x Platinum\n",
      "4   THE CHRISTMAS SESSIONS       MERCYME               Gold\n"
     ]
    }
   ],
   "source": [
    "clean(['Label'], 'riaaAlbumCerts_1999-2019.csv')"
   ]
  },
  {
   "cell_type": "code",
   "execution_count": 9,
   "metadata": {
    "tags": [
     "hide-cell"
    ]
   },
   "outputs": [
    {
     "name": "stdout",
     "output_type": "stream",
     "text": [
      "           Artist         RiaaStatus\n",
      "X                                   \n",
      "0       Dj Khaled               Gold\n",
      "1           Ciara        1x Platinum\n",
      "2    Daddy Yankee        11x Diamond\n",
      "3   Billie Eilish        1x Platinum\n",
      "4  Jennifer Lopez  6x Multi-Platinum\n"
     ]
    }
   ],
   "source": [
    "clean(['Name', 'Label'], 'riaaSingleCerts_1999-2019.csv')"
   ]
  },
  {
   "cell_type": "code",
   "execution_count": 10,
   "metadata": {
    "tags": [
     "hide-cell"
    ]
   },
   "outputs": [
    {
     "name": "stdout",
     "output_type": "stream",
     "text": [
      "            Artist               Name  Popularity\n",
      "0  Collective Soul  Welcome All Again          35\n",
      "1  Collective Soul              Fuzzy          31\n",
      "2  Collective Soul                Dig          30\n",
      "3  Collective Soul                You          35\n",
      "4  Collective Soul            My Days          21\n"
     ]
    }
   ],
   "source": [
    "clean(['Acousticness', 'Album', 'Danceability', 'Duration', 'Energy', 'Explicit', 'Instrumentalness', 'Liveness', 'Loudness', 'Mode', 'Speechiness', 'Tempo', 'TimeSignature', 'Valence'], 'songAttributes_1999-2019.csv')"
   ]
  },
  {
   "cell_type": "code",
   "execution_count": 11,
   "metadata": {
    "tags": [
     "hide-cell"
    ]
   },
   "outputs": [
    {
     "name": "stdout",
     "output_type": "stream",
     "text": [
      "             Name         Artist   Streams        Week\n",
      "0  In My Feelings          Drake  30747676  2018-07-20\n",
      "1    Lucid Dreams     Juice WRLD  12930705  2018-07-20\n",
      "2         Nonstop          Drake  12312859  2018-07-20\n",
      "3  God is a woman  Ariana Grande  10771324  2018-07-20\n",
      "4            SAD!   XXXTENTACION  10503061  2018-07-20\n"
     ]
    }
   ],
   "source": [
    "clean(['Features'], 'spotifyWeeklyTop200Streams.csv')"
   ]
  }
 ],
 "metadata": {
  "kernelspec": {
   "display_name": "jupyterbook",
   "language": "python",
   "name": "python3"
  },
  "language_info": {
   "codemirror_mode": {
    "name": "ipython",
    "version": 3
   },
   "file_extension": ".py",
   "mimetype": "text/x-python",
   "name": "python",
   "nbconvert_exporter": "python",
   "pygments_lexer": "ipython3",
   "version": "3.11.3"
  },
  "orig_nbformat": 4
 },
 "nbformat": 4,
 "nbformat_minor": 2
}
