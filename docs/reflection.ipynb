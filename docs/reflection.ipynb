{
 "cells": [
  {
   "attachments": {},
   "cell_type": "markdown",
   "metadata": {},
   "source": [
    "# Reflection"
   ]
  },
  {
   "attachments": {},
   "cell_type": "markdown",
   "metadata": {},
   "source": [
    "## Received feedback\n",
    "The main points from the feedback by the TA and peers.\n",
    "- There is no conclusion regarding the visuals.\n",
    "- The visuals look good.\n",
    "- The boxplot visual is hard to read.\n",
    "- Group visuals per perspective.\n",
    "- Support the perspectives using the visuals.\n",
    "- More visuals with correlations."
   ]
  },
  {
   "attachments": {},
   "cell_type": "markdown",
   "metadata": {},
   "source": [
    "## Processed feedback"
   ]
  }
 ],
 "metadata": {
  "language_info": {
   "name": "python"
  },
  "orig_nbformat": 4
 },
 "nbformat": 4,
 "nbformat_minor": 2
}
