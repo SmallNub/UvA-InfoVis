{
 "cells": [
  {
   "attachments": {},
   "cell_type": "markdown",
   "metadata": {},
   "source": [
    "# Reflection"
   ]
  },
  {
   "attachments": {},
   "cell_type": "markdown",
   "metadata": {},
   "source": [
    "## Received feedback\n",
    "The main points from the feedback by the TA and peers.\n",
    "- [There is no conclusion regarding the visuals](#there-is-no-conclusion-regarding-the-visuals)\n",
    "- [The boxplot visual is hard to read](#the-boxplot-visual-is-hard-to-read)\n",
    "- [Group visuals per perspective](#group-visuals-per-perspective)\n",
    "- [Support the perspectives using the visuals](#support-the-perspectives-using-the-visuals)\n",
    "- [More visuals with correlations](#more-visuals-with-correlations)"
   ]
  },
  {
   "attachments": {},
   "cell_type": "markdown",
   "metadata": {},
   "source": [
    "## Processed feedback"
   ]
  },
  {
   "attachments": {},
   "cell_type": "markdown",
   "metadata": {},
   "source": [
    "### There is no conclusion regarding the visuals"
   ]
  },
  {
   "attachments": {},
   "cell_type": "markdown",
   "metadata": {},
   "source": [
    "### The boxplot visual is hard to read"
   ]
  },
  {
   "attachments": {},
   "cell_type": "markdown",
   "metadata": {},
   "source": [
    "### Group visuals per perspective\n",
    "We have named each visual accordingly and grouped them under their respective perspective."
   ]
  },
  {
   "attachments": {},
   "cell_type": "markdown",
   "metadata": {},
   "source": [
    "### Support the perspectives using the visuals"
   ]
  },
  {
   "attachments": {},
   "cell_type": "markdown",
   "metadata": {},
   "source": [
    "### More visuals with correlations\n",
    "We made two scatterplots ([Awards and streams](vis5.ipynb), [Album sales and streams](vis6.ipynb)) to look for correlations between datapoints. "
   ]
  }
 ],
 "metadata": {
  "language_info": {
   "name": "python"
  },
  "orig_nbformat": 4
 },
 "nbformat": 4,
 "nbformat_minor": 2
}
