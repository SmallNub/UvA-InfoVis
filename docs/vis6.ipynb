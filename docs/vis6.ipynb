{
 "cells": [
  {
   "attachments": {},
   "cell_type": "markdown",
   "metadata": {},
   "source": [
    "# Album sales and streams"
   ]
  },
  {
   "attachments": {},
   "cell_type": "markdown",
   "metadata": {},
   "source": []
  },
  {
   "cell_type": "code",
   "execution_count": 96,
   "metadata": {},
   "outputs": [],
   "source": [
    "import plotly.graph_objs as go\n",
    "import plotly.express as px\n",
    "import pandas as pd"
   ]
  },
  {
   "cell_type": "code",
   "execution_count": 97,
   "metadata": {},
   "outputs": [
    {
     "data": {
      "application/vnd.plotly.v1+json": {
       "config": {
        "plotlyServerURL": "https://plot.ly"
       },
       "data": [
        {
         "customdata": [
          [
           "RADIOHEAD"
          ],
          [
           "THE STROKES"
          ],
          [
           "GINUWINE"
          ],
          [
           "MICHEL'LE"
          ],
          [
           "STRAIGHT NO CHASER"
          ],
          [
           "INNER CIRCLE"
          ],
          [
           "OMARION"
          ],
          [
           "PINK FLOYD"
          ],
          [
           "CIARA"
          ],
          [
           "SURVIVOR"
          ],
          [
           "GREEN DAY"
          ],
          [
           "LUNY TUNES"
          ],
          [
           "RAGE AGAINST THE MACHINE"
          ],
          [
           "DAVID GRAY"
          ],
          [
           "SUFJAN STEVENS"
          ],
          [
           "TEVIN CAMPBELL"
          ],
          [
           "LEONARD COHEN"
          ],
          [
           "NEEDTOBREATHE"
          ],
          [
           "GAVIN DEGRAW"
          ],
          [
           "EDWARD SHARPE & THE MAGNETIC ZEROS"
          ],
          [
           "TRACY CHAPMAN"
          ],
          [
           "PHILLIP PHILLIPS"
          ],
          [
           "MICHAEL BOLTON"
          ],
          [
           "BRANDY"
          ],
          [
           "AMY WINEHOUSE"
          ],
          [
           "ROBYN"
          ],
          [
           "SUBLIME"
          ],
          [
           "ENGELBERT HUMPERDINCK"
          ],
          [
           "STING"
          ],
          [
           "JAMIE FOXX"
          ],
          [
           "OLD DOMINION"
          ],
          [
           "EPMD"
          ],
          [
           "FIVE FINGER DEATH PUNCH"
          ],
          [
           "KIRK FRANKLIN"
          ],
          [
           "MARY J. BLIGE"
          ],
          [
           "OMI"
          ],
          [
           "DAMIAN MARLEY"
          ],
          [
           "JAMES"
          ],
          [
           "JOHNNY CASH"
          ],
          [
           "ELEVATION WORSHIP"
          ],
          [
           "SPICE GIRLS"
          ],
          [
           "MIKE OLDFIELD"
          ],
          [
           "BUSTA RHYMES"
          ],
          [
           "JOHNNY MATHIS"
          ],
          [
           "KISS"
          ],
          [
           "LOS BUKIS"
          ],
          [
           "NATASHA BEDINGFIELD"
          ],
          [
           "RASCAL FLATTS"
          ],
          [
           "IRON MAIDEN"
          ],
          [
           "PAUL SIMON"
          ],
          [
           "MUSE"
          ],
          [
           "THE CLASH"
          ],
          [
           "MEN AT WORK"
          ],
          [
           "DOLLY PARTON"
          ],
          [
           "THE FRAY"
          ],
          [
           "ROXETTE"
          ],
          [
           "TLC"
          ],
          [
           "AALIYAH"
          ],
          [
           "KENNY ROGERS"
          ],
          [
           "JADAKISS"
          ],
          [
           "ANNIE LENNOX"
          ],
          [
           "EURYTHMICS"
          ],
          [
           "BILLY JOEL"
          ],
          [
           "THE WIGGLES"
          ],
          [
           "BOB MARLEY & THE WAILERS"
          ],
          [
           "TOBY KEITH"
          ],
          [
           "BRONCO"
          ],
          [
           "ROBBIE WILLIAMS"
          ],
          [
           "LITTLE BIG TOWN"
          ],
          [
           "CAPITAL CITIES"
          ],
          [
           "DIERKS BENTLEY"
          ],
          [
           "BANDA EL RECODO"
          ],
          [
           "ETTA JAMES"
          ],
          [
           "GRUPO MOJADO"
          ],
          [
           "TAMIA"
          ],
          [
           "INXS"
          ],
          [
           "ROD STEWART"
          ],
          [
           "CHRIS DE BURGH"
          ],
          [
           "NEW ORDER"
          ],
          [
           "LILY ALLEN"
          ],
          [
           "ISRAEL KAMAKAWIWO'OLE"
          ],
          [
           "PAPA ROACH"
          ],
          [
           "STEVE PERRY"
          ],
          [
           "FANTASIA"
          ],
          [
           "THE DARKNESS"
          ],
          [
           "AIR SUPPLY"
          ],
          [
           "BON JOVI"
          ],
          [
           "VOLBEAT"
          ],
          [
           "GROVER WASHINGTON, JR."
          ],
          [
           "JAKE OWEN"
          ],
          [
           "FRANKIE GOES TO HOLLYWOOD"
          ],
          [
           "OTIS REDDING"
          ],
          [
           "BILL WITHERS"
          ],
          [
           "STEVIE NICKS"
          ],
          [
           "MARIO"
          ],
          [
           "RUSSELL DICKERSON"
          ],
          [
           "GERRY RAFFERTY"
          ],
          [
           "WALE"
          ],
          [
           "PHIL SPECTOR"
          ],
          [
           "FAT JOE"
          ],
          [
           "DIDDY"
          ],
          [
           "IGGY AZALEA"
          ],
          [
           "LUPE FIASCO"
          ],
          [
           "ARETHA FRANKLIN"
          ],
          [
           "TEE GRIZZLEY"
          ],
          [
           "ANDREA BOCELLI"
          ],
          [
           "CHRISTINA AGUILERA"
          ],
          [
           "RZA"
          ],
          [
           "CAPPADONNA"
          ],
          [
           "THE BEATLES"
          ],
          [
           "MEAT LOAF"
          ],
          [
           "SOLANGE"
          ],
          [
           "SELENA GOMEZ & THE SCENE"
          ],
          [
           "DONNA SUMMER"
          ],
          [
           "DEATH CAB FOR CUTIE"
          ],
          [
           "SANTANA"
          ],
          [
           "SLIPKNOT"
          ],
          [
           "ERIC CHURCH"
          ],
          [
           "TOM PETTY"
          ],
          [
           "ELLE KING"
          ],
          [
           "ROBERT MILES"
          ],
          [
           "RAEKWON"
          ],
          [
           "MUMFORD & SONS"
          ],
          [
           "KENNY LOGGINS"
          ],
          [
           "NEIL DIAMOND"
          ],
          [
           "KEVIN LYTTLE"
          ],
          [
           "BACKSTREET BOYS"
          ],
          [
           "EIFFEL 65"
          ],
          [
           "FITZ AND THE TANTRUMS"
          ],
          [
           "METHOD MAN"
          ],
          [
           "LOUIS ARMSTRONG"
          ],
          [
           "JOSH TURNER"
          ],
          [
           "T.I."
          ],
          [
           "BLACKSTREET"
          ],
          [
           "ROGER"
          ],
          [
           "LEE BRICE"
          ],
          [
           "WYCLEF JEAN"
          ],
          [
           "THE WHITE STRIPES"
          ],
          [
           "LIFEHOUSE"
          ],
          [
           "DESTINY'S CHILD"
          ],
          [
           "LOS ANGELES DE CHARLY"
          ],
          [
           "CRAIG DAVID"
          ],
          [
           "FABOLOUS"
          ],
          [
           "MIRANDA LAMBERT"
          ],
          [
           "Q-TIP"
          ],
          [
           "THE CHICKS"
          ],
          [
           "AKON"
          ],
          [
           "COLE SWINDELL"
          ],
          [
           "BEE GEES"
          ],
          [
           "KERI HILSON"
          ],
          [
           "T.A.T.U."
          ],
          [
           "ALEJANDRO SANZ"
          ],
          [
           "ROCKWELL"
          ],
          [
           "THE CRANBERRIES"
          ],
          [
           "CREEDENCE CLEARWATER REVIVAL"
          ],
          [
           "FRED HAMMOND"
          ],
          [
           "GEORGE BENSON"
          ],
          [
           "THE-DREAM"
          ],
          [
           "OUTKAST"
          ],
          [
           "MISSY ELLIOTT"
          ],
          [
           "DUFFY"
          ],
          [
           "TECH N9NE"
          ],
          [
           "KALEO"
          ],
          [
           "DIRE STRAITS"
          ],
          [
           "SNOW PATROL"
          ],
          [
           "JENNIFER HUDSON"
          ],
          [
           "FLEET FOXES"
          ],
          [
           "KEANE"
          ],
          [
           "CHRIS YOUNG"
          ],
          [
           "ELECTRIC LIGHT ORCHESTRA"
          ],
          [
           "LOUIS PRIMA"
          ],
          [
           "LYNYRD SKYNYRD"
          ],
          [
           "NE-YO"
          ],
          [
           "DARIUS RUCKER"
          ],
          [
           "JEREMIH"
          ],
          [
           "ALL TIME LOW"
          ],
          [
           "MADONNA"
          ],
          [
           "RED HOT CHILI PEPPERS"
          ],
          [
           "JUDY GARLAND"
          ],
          [
           "THE 1975"
          ],
          [
           "KENNY G"
          ],
          [
           "CLIPSE"
          ],
          [
           "THE XX"
          ],
          [
           "GABBY BARRETT"
          ],
          [
           "COLBIE CAILLAT"
          ],
          [
           "JASON ALDEAN"
          ],
          [
           "CARRIE UNDERWOOD"
          ],
          [
           "LUDACRIS"
          ],
          [
           "NAS"
          ],
          [
           "FOSTER THE PEOPLE"
          ],
          [
           "LOS TUCANES DE TIJUANA"
          ],
          [
           "A-HA"
          ],
          [
           "BELLY"
          ],
          [
           "MOBY"
          ],
          [
           "FOO FIGHTERS"
          ],
          [
           "JENNIFER LOPEZ"
          ],
          [
           "T-PAIN"
          ],
          [
           "KACEY MUSGRAVES"
          ],
          [
           "CHRISTINA PERRI"
          ],
          [
           "GEORGE MICHAEL"
          ],
          [
           "VAN MORRISON"
          ],
          [
           "AMY GRANT"
          ],
          [
           "DONNY HATHAWAY"
          ],
          [
           "RUSS"
          ],
          [
           "AC/DC"
          ],
          [
           "KEITH URBAN"
          ],
          [
           "AVRIL LAVIGNE"
          ],
          [
           "DREAMVILLE"
          ],
          [
           "SHANIA TWAIN"
          ],
          [
           "THE LUMINEERS"
          ],
          [
           "MY CHEMICAL ROMANCE"
          ],
          [
           "TRAIN"
          ],
          [
           "NIPSEY HUSSLE"
          ],
          [
           "DMX"
          ],
          [
           "ZAC BROWN BAND"
          ],
          [
           "ELLA FITZGERALD"
          ],
          [
           "ICE CUBE"
          ],
          [
           "VANESSA HUDGENS"
          ],
          [
           "AARON CARTER"
          ],
          [
           "KID INK"
          ],
          [
           "USHER"
          ],
          [
           "EARTH, WIND & FIRE"
          ],
          [
           "MARC ANTHONY"
          ],
          [
           "WALK THE MOON"
          ],
          [
           "GORILLAZ"
          ],
          [
           "EMPIRE OF THE SUN"
          ],
          [
           "THE NEPTUNES"
          ],
          [
           "VINCE GUARALDI TRIO"
          ],
          [
           "FLUME"
          ],
          [
           "GUNS N' ROSES"
          ],
          [
           "TINA TURNER"
          ],
          [
           "JAMES BAY"
          ],
          [
           "GHOSTFACE KILLAH"
          ],
          [
           "ASHANTI"
          ],
          [
           "U2"
          ],
          [
           "MILKY CHANCE"
          ],
          [
           "ANDY GRAMMER"
          ],
          [
           "THOMAS RHETT"
          ],
          [
           "THE GAME"
          ],
          [
           "LUPILLO RIVERA"
          ],
          [
           "PARAMORE"
          ],
          [
           "TONY BENNETT"
          ],
          [
           "STEVIE WONDER"
          ],
          [
           "KINGS OF LEON"
          ],
          [
           "M.I.A."
          ],
          [
           "THE BEACH BOYS"
          ],
          [
           "BRYAN ADAMS"
          ],
          [
           "PENTATONIX"
          ],
          [
           "METALLICA"
          ],
          [
           "BLAKE SHELTON"
          ],
          [
           "NELLY"
          ],
          [
           "GROUPLOVE"
          ],
          [
           "GWEN STEFANI"
          ],
          [
           "EAGLES"
          ],
          [
           "CONJUNTO PRIMAVERA"
          ],
          [
           "EVE"
          ],
          [
           "BRETT ELDREDGE"
          ],
          [
           "ALICIA KEYS"
          ],
          [
           "BOBBY SHMURDA"
          ],
          [
           "CHIEF KEEF"
          ],
          [
           "LEONA LEWIS"
          ],
          [
           "KEVIN GATES"
          ],
          [
           "GIPSY KINGS"
          ],
          [
           "NELLY FURTADO"
          ],
          [
           "JOHN WILLIAMS"
          ],
          [
           "BRING ME THE HORIZON"
          ],
          [
           "THE CARTERS"
          ],
          [
           "TEARS FOR FEARS"
          ],
          [
           "TOVE LO"
          ],
          [
           "ABBA"
          ],
          [
           "IDINA MENZEL"
          ],
          [
           "TIMBALAND"
          ],
          [
           "WILL SMITH"
          ],
          [
           "BRUCE SPRINGSTEEN"
          ],
          [
           "RAMMSTEIN"
          ],
          [
           "DIDO"
          ],
          [
           "CAGE THE ELEPHANT"
          ],
          [
           "KIDS SEE GHOSTS"
          ],
          [
           "TREY SONGZ"
          ],
          [
           "MGMT"
          ],
          [
           "CALBOY"
          ],
          [
           "DNCE"
          ],
          [
           "LUKE BRYAN"
          ],
          [
           "KYLIE MINOGUE"
          ],
          [
           "MAXWELL"
          ],
          [
           "SAGE THE GEMINI"
          ],
          [
           "ELLA MAI"
          ],
          [
           "GOTYE"
          ],
          [
           "CHUCK BERRY"
          ],
          [
           "BRITNEY SPEARS"
          ],
          [
           "FETTY WAP"
          ],
          [
           "SKI MASK THE SLUMP GOD"
          ],
          [
           "YO GOTTI"
          ],
          [
           "SCHOOLBOY Q"
          ],
          [
           "MEGHAN TRAINOR"
          ],
          [
           "BON IVER"
          ],
          [
           "SUMMER WALKER"
          ],
          [
           "G HERBO"
          ],
          [
           "PASSENGER"
          ],
          [
           "JAMES BLUNT"
          ],
          [
           "SHAGGY"
          ],
          [
           "ELVIS PRESLEY"
          ],
          [
           "H.E.R."
          ],
          [
           "ONE DIRECTION"
          ],
          [
           "JOURNEY"
          ],
          [
           "ROD WAVE"
          ],
          [
           "X AMBASSADORS"
          ],
          [
           "LORD HURON"
          ],
          [
           "MYA"
          ],
          [
           "PERRY COMO"
          ],
          [
           "JON BELLION"
          ],
          [
           "OZZY OSBOURNE"
          ],
          [
           "POOH SHIESTY"
          ],
          [
           "PNB ROCK"
          ],
          [
           "JOHN MAYER"
          ],
          [
           "KESHA"
          ],
          [
           "A$AP FERG"
          ],
          [
           "FIFTH HARMONY"
          ],
          [
           "RICKY MARTIN"
          ],
          [
           "BURL IVES"
          ],
          [
           "LIL SKIES"
          ],
          [
           "JAY-Z"
          ],
          [
           "DR. DRE"
          ],
          [
           "DAVID BOWIE"
          ],
          [
           "SAM HUNT"
          ],
          [
           "GYM CLASS HEROES"
          ],
          [
           "KELSEA BALLERINI"
          ],
          [
           "MELANIE MARTINEZ"
          ],
          [
           "MONEYBAGG YO"
          ],
          [
           "LUIS MIGUEL"
          ],
          [
           "MICHAEL JACKSON"
          ],
          [
           "LINKIN PARK"
          ],
          [
           "FALL OUT BOY"
          ],
          [
           "DON OMAR"
          ],
          [
           "DAYA"
          ],
          [
           "PITBULL"
          ],
          [
           "AJR"
          ],
          [
           "LUKE COMBS"
          ],
          [
           "JASON MRAZ"
          ],
          [
           "CHRIS REA"
          ],
          [
           "TOTO"
          ],
          [
           "MACKLEMORE & RYAN LEWIS"
          ],
          [
           "NAT KING COLE"
          ],
          [
           "COOLIO"
          ],
          [
           "JOHN LENNON"
          ],
          [
           "FAMOUS DEX"
          ],
          [
           "SNOOP DOGG"
          ],
          [
           "STEVE AOKI"
          ],
          [
           "MIGUEL"
          ],
          [
           "LIL DICKY"
          ],
          [
           "THE POLICE"
          ],
          [
           "LUKAS GRAHAM"
          ],
          [
           "CHRIS STAPLETON"
          ],
          [
           "KELLY CLARKSON"
          ],
          [
           "LANA DEL REY"
          ],
          [
           "DEAN MARTIN"
          ],
          [
           "BING CROSBY"
          ],
          [
           "YG"
          ],
          [
           "KANE BROWN"
          ],
          [
           "TAME IMPALA"
          ],
          [
           "LORDE"
          ],
          [
           "50 CENT"
          ],
          [
           "GEORGE EZRA"
          ],
          [
           "RICH THE KID"
          ],
          [
           "MAC MILLER"
          ],
          [
           "FRANK SINATRA"
          ],
          [
           "NLE CHOPPA"
          ],
          [
           "WHITNEY HOUSTON"
          ],
          [
           "WIZ KHALIFA"
          ],
          [
           "SHECK WES"
          ],
          [
           "2 CHAINZ"
          ],
          [
           "ANDY WILLIAMS"
          ],
          [
           "JUSTIN TIMBERLAKE"
          ],
          [
           "PORTUGAL. THE MAN"
          ],
          [
           "PARTYNEXTDOOR"
          ],
          [
           "ENRIQUE IGLESIAS"
          ],
          [
           "OASIS"
          ],
          [
           "KYLE"
          ],
          [
           "MARK RONSON"
          ],
          [
           "LIL PEEP"
          ],
          [
           "BRYSON TILLER"
          ],
          [
           "ALEC BENJAMIN"
          ],
          [
           "RAE SREMMURD"
          ],
          [
           "SKRILLEX"
          ],
          [
           "KEHLANI"
          ],
          [
           "HOZIER"
          ],
          [
           "JESS GLYNNE"
          ],
          [
           "NF"
          ],
          [
           "DAN + SHAY"
          ],
          [
           "PROJECT PAT"
          ],
          [
           "KATE BUSH"
          ],
          [
           "YOUNGBOY NEVER BROKE AGAIN"
          ],
          [
           "RICK ROSS"
          ],
          [
           "VANCE JOY"
          ],
          [
           "P!NK"
          ],
          [
           "MEEK MILL"
          ],
          [
           "RUTH B."
          ],
          [
           "FRANK OCEAN"
          ],
          [
           "NIALL HORAN"
          ],
          [
           "TWENTY ONE PILOTS"
          ],
          [
           "NIRVANA"
          ],
          [
           "SNOW"
          ],
          [
           "FLEETWOOD MAC"
          ],
          [
           "CHERISH"
          ],
          [
           "WHAM!"
          ],
          [
           "KID CUDI"
          ],
          [
           "THE KILLERS"
          ],
          [
           "YNW MELLY"
          ],
          [
           "TORY LANEZ"
          ],
          [
           "MAREN MORRIS"
          ],
          [
           "CHILDISH GAMBINO"
          ],
          [
           "PHARRELL WILLIAMS"
          ],
          [
           "6LACK"
          ],
          [
           "ELLIE GOULDING"
          ],
          [
           "MUSTARD"
          ],
          [
           "A$AP ROCKY"
          ],
          [
           "G-EAZY"
          ],
          [
           "PLAYBOI CARTI"
          ],
          [
           "JOJI"
          ],
          [
           "JOHN LEGEND"
          ],
          [
           "BILLY RAY CYRUS"
          ],
          [
           "DEAN LEWIS"
          ],
          [
           "ALAN WALKER"
          ],
          [
           "TYLER, THE CREATOR"
          ],
          [
           "MAJOR LAZER"
          ],
          [
           "MACHINE GUN KELLY"
          ],
          [
           "LIL TECCA"
          ],
          [
           "ZARA LARSSON"
          ],
          [
           "ARCTIC MONKEYS"
          ],
          [
           "BIG SEAN"
          ],
          [
           "MORGAN WALLEN"
          ],
          [
           "MARIAH CAREY"
          ],
          [
           "SEAN PAUL"
          ],
          [
           "LIL PUMP"
          ],
          [
           "LIL MOSEY"
          ],
          [
           "FLORIDA GEORGIA LINE"
          ],
          [
           "TROYE SIVAN"
          ],
          [
           "BAZZI"
          ],
          [
           "DIPLO"
          ],
          [
           "METRO BOOMIN"
          ],
          [
           "PANIC! AT THE DISCO"
          ],
          [
           "INTERNET MONEY"
          ],
          [
           "CONAN GRAY"
          ],
          [
           "DAFT PUNK"
          ],
          [
           "BASTILLE"
          ],
          [
           "TRIPPIE REDD"
          ],
          [
           "JONAS BLUE"
          ],
          [
           "LOGIC"
          ],
          [
           "RIHANNA"
          ],
          [
           "FRENCH MONTANA"
          ],
          [
           "LIZZO"
          ],
          [
           "A BOOGIE WIT DA HOODIE"
          ],
          [
           "NAV"
          ],
          [
           "GUCCI MANE"
          ],
          [
           "KATY PERRY"
          ],
          [
           "MACKLEMORE"
          ],
          [
           "LIL DURK"
          ],
          [
           "5 SECONDS OF SUMMER"
          ],
          [
           "BLACKBEAR"
          ],
          [
           "ALESSIA CARA"
          ],
          [
           "BENNY BLANCO"
          ],
          [
           "LIL TJAY"
          ],
          [
           "SHAKIRA"
          ],
          [
           "MILEY CYRUS"
          ],
          [
           "ONEREPUBLIC"
          ],
          [
           "ZAYN"
          ],
          [
           "JONAS BROTHERS"
          ],
          [
           "CHRIS BROWN"
          ],
          [
           "DON TOLIVER"
          ],
          [
           "6IX9INE"
          ],
          [
           "KODAK BLACK"
          ],
          [
           "CLEAN BANDIT"
          ],
          [
           "DJ SNAKE"
          ],
          [
           "LIL WAYNE"
          ],
          [
           "CHARLIE PUTH"
          ],
          [
           "TYGA"
          ],
          [
           "OFFSET"
          ],
          [
           "24KGOLDN"
          ],
          [
           "SIA"
          ],
          [
           "LAUV"
          ],
          [
           "BEBE REXHA"
          ],
          [
           "ELTON JOHN"
          ],
          [
           "DANIEL CAESAR"
          ],
          [
           "DJ KHALED"
          ],
          [
           "AVICII"
          ],
          [
           "DEMI LOVATO"
          ],
          [
           "THE NEIGHBOURHOOD"
          ],
          [
           "ANNE-MARIE"
          ],
          [
           "TY DOLLA $IGN"
          ],
          [
           "AVA MAX"
          ],
          [
           "KYGO"
          ],
          [
           "MIGOS"
          ],
          [
           "JASON DERULO"
          ],
          [
           "MEGAN THEE STALLION"
          ],
          [
           "TONES AND I"
          ],
          [
           "QUEEN"
          ],
          [
           "J. COLE"
          ],
          [
           "DAVID GUETTA"
          ],
          [
           "POLO G"
          ],
          [
           "GIVEON"
          ],
          [
           "KANYE WEST"
          ],
          [
           "LADY GAGA"
          ],
          [
           "GUNNA"
          ],
          [
           "POP SMOKE"
          ],
          [
           "CALVIN HARRIS"
          ],
          [
           "SAM SMITH"
          ],
          [
           "ADELE"
          ],
          [
           "LIL UZI VERT"
          ],
          [
           "COLDPLAY"
          ],
          [
           "QUAVO"
          ],
          [
           "NICKI MINAJ"
          ],
          [
           "RODDY RICCH"
          ],
          [
           "LIL BABY"
          ],
          [
           "FUTURE"
          ],
          [
           "EMINEM"
          ],
          [
           "MAROON 5"
          ],
          [
           "SZA"
          ],
          [
           "JACK HARLOW"
          ],
          [
           "BRUNO MARS"
          ],
          [
           "21 SAVAGE"
          ],
          [
           "YOUNG THUG"
          ],
          [
           "SELENA GOMEZ"
          ],
          [
           "THE CHAINSMOKERS"
          ],
          [
           "KENDRICK LAMAR"
          ],
          [
           "HALSEY"
          ],
          [
           "THE KID LAROI"
          ],
          [
           "SHAWN MENDES"
          ],
          [
           "TAYLOR SWIFT"
          ],
          [
           "IMAGINE DRAGONS"
          ],
          [
           "CARDI B"
          ],
          [
           "DABABY"
          ],
          [
           "CAMILA CABELLO"
          ],
          [
           "BTS"
          ],
          [
           "DADDY YANKEE"
          ],
          [
           "XXXTENTACION"
          ],
          [
           "HARRY STYLES"
          ],
          [
           "LIL NAS X"
          ],
          [
           "JUICE WRLD"
          ],
          [
           "TRAVIS SCOTT"
          ],
          [
           "KHALID"
          ],
          [
           "DOJA CAT"
          ],
          [
           "OLIVIA RODRIGO"
          ],
          [
           "BILLIE EILISH"
          ],
          [
           "ARIANA GRANDE"
          ],
          [
           "DUA LIPA"
          ],
          [
           "THE WEEKND"
          ],
          [
           "POST MALONE"
          ],
          [
           "JUSTIN BIEBER"
          ],
          [
           "ED SHEERAN"
          ],
          [
           "DRAKE"
          ]
         ],
         "hovertemplate": "streams=%{x}<br>Certified Units=%{y}<br>Artist=%{customdata[0]}<extra></extra>",
         "legendgroup": "",
         "marker": {
          "color": "#636efa",
          "symbol": "circle"
         },
         "mode": "markers",
         "name": "",
         "orientation": "v",
         "showlegend": false,
         "type": "scatter",
         "x": [
          4513,
          5988,
          17601,
          19176,
          24177,
          27647,
          31328,
          34069,
          34594,
          39442,
          40805,
          43671,
          47275,
          50073,
          61742,
          72363,
          72632,
          76587,
          76587,
          85430,
          87889,
          95983,
          106305,
          111469,
          123959,
          132481,
          140499,
          178480,
          187659,
          205802,
          209659,
          248746,
          250995,
          260746,
          284519,
          314863,
          320249,
          322478,
          337632,
          373704,
          417497,
          419105,
          424355,
          451877,
          505154,
          602650,
          691373,
          696855,
          704928,
          751073,
          787515,
          921974,
          1015947,
          1098346,
          1102834,
          1122627,
          1215414,
          1229587,
          1266115,
          1305162,
          1333739,
          1333739,
          1396863,
          1408024,
          1417561,
          1482489,
          1495563,
          1580311,
          1590246,
          1623835,
          1691709,
          1768868,
          1827881,
          1848285,
          1911206,
          1913853,
          1939940,
          2088507,
          2148502,
          2175469,
          2226167,
          2274487,
          2308131,
          2323271,
          2348501,
          2543957,
          2570135,
          2772542,
          2798281,
          2979430,
          3012158,
          3026361,
          3199084,
          3236589,
          3276681,
          3384245,
          3405376,
          3579101,
          3593955,
          3724467,
          3930110,
          3934056,
          4020862,
          4027932,
          4067764,
          4220954,
          4246942,
          4285515,
          4285515,
          4454211,
          4723733,
          4746650,
          4788730,
          4935420,
          5052724,
          5120047,
          5155594,
          5260776,
          5292179,
          5318885,
          5419891,
          5538611,
          5586362,
          5660671,
          5679813,
          5735823,
          5800155,
          5995116,
          6174930,
          6442072,
          6509471,
          6675677,
          6754873,
          7370075,
          7431201,
          7483639,
          7576318,
          7599432,
          7663336,
          7879596,
          7915781,
          8014910,
          8376700,
          8474418,
          8695060,
          9363501,
          9640297,
          9673566,
          9687715,
          10202587,
          10296805,
          10309492,
          10332606,
          10957985,
          11120597,
          11183853,
          11307146,
          11654728,
          11670961,
          11710341,
          11739156,
          11882940,
          11983327,
          12017649,
          13120341,
          13189493,
          13231090,
          13804830,
          13889105,
          15273141,
          15317236,
          15660376,
          15895745,
          16003745,
          17004943,
          17142419,
          18255002,
          19219703,
          19525675,
          19676488,
          19916542,
          19916542,
          20065204,
          21509452,
          21636669,
          21943055,
          21943055,
          22156013,
          22226914,
          22673898,
          22682451,
          22805949,
          23209381,
          24113760,
          24255668,
          24307104,
          24477135,
          24575989,
          25392115,
          25454181,
          25470437,
          27363504,
          28010361,
          28291811,
          31464936,
          31554300,
          31937402,
          32813294,
          33467386,
          33626503,
          33744583,
          33818655,
          33896799,
          34467762,
          36834933,
          37633363,
          37978612,
          38096165,
          39089078,
          39599460,
          39940685,
          40583076,
          40817134,
          40843191,
          40867696,
          41104716,
          42055737,
          42298851,
          42500369,
          42915238,
          43827549,
          44411156,
          44532154,
          44796469,
          46062109,
          46737558,
          47140536,
          47159717,
          48158783,
          48415776,
          50268536,
          50685340,
          52551860,
          53395583,
          55620238,
          55620399,
          56832547,
          58371035,
          61236873,
          61456376,
          62197830,
          62530874,
          62981462,
          64996469,
          65260870,
          65693930,
          66368485,
          66655918,
          66698503,
          66777522,
          67333195,
          68502381,
          68593452,
          71307405,
          72430337,
          73580282,
          73965116,
          74850550,
          75789278,
          76029726,
          76438700,
          76869085,
          81500212,
          87839447,
          88251277,
          89467130,
          90078808,
          92497327,
          93704380,
          95755543,
          96794068,
          97722900,
          101526039,
          106592323,
          115607789,
          116189090,
          120911307,
          127198640,
          127507783,
          129122312,
          131729314,
          131869344,
          132748864,
          132939607,
          134025051,
          134689484,
          149659537,
          153981264,
          156942104,
          161722723,
          163682616,
          171056413,
          173118664,
          178921517,
          181290530,
          182816520,
          184149229,
          186267715,
          188726426,
          203014840,
          204079754,
          205328388,
          211276690,
          212641233,
          216077670,
          223451721,
          225411345,
          230933012,
          236398493,
          236421819,
          241425207,
          243449001,
          244115642,
          247674263,
          250652668,
          251270737,
          251355277,
          252456192,
          254467241,
          256458441,
          258886900,
          261293627,
          261881456,
          283937263,
          285128686,
          286919972,
          292391494,
          292769358,
          307204230,
          312145196,
          315804600,
          316079755,
          317912103,
          322208432,
          325165120,
          327407285,
          334757283,
          353802862,
          353912605,
          361634643,
          361796890,
          364595548,
          364607636,
          366848849,
          367695251,
          386627801,
          388580300,
          390999646,
          393633887,
          398541071,
          418767776,
          418890540,
          420565456,
          421973130,
          425458170,
          434462239,
          435525443,
          447580444,
          452897972,
          459932268,
          461560206,
          501235301,
          501264035,
          503940750,
          508791219,
          515854601,
          521992311,
          535146678,
          538759980,
          545381862,
          568859724,
          569297973,
          587082817,
          587862578,
          590490960,
          610462020,
          612130037,
          614501603,
          618028600,
          619159117,
          626959573,
          631512307,
          668167401,
          670493016,
          693560305,
          704354222,
          714336335,
          741032800,
          753101105,
          760508770,
          773642129,
          777974755,
          780765217,
          790926239,
          792350790,
          802122945,
          807607752,
          828614177,
          835829096,
          856962176,
          861312843,
          893730754,
          895323889,
          898055321,
          912508805,
          928788185,
          941530141,
          964345144,
          980339079,
          991454646,
          1026419426,
          1035780117,
          1052762990,
          1056382588,
          1066103085,
          1074233921,
          1100170766,
          1124853076,
          1146810533,
          1164957170,
          1166463687,
          1168360042,
          1191440189,
          1200682400,
          1201943526,
          1209643673,
          1235182354,
          1241238664,
          1249033743,
          1256129044,
          1280025747,
          1292733478,
          1294427345,
          1308334404,
          1361084860,
          1363944112,
          1367474284,
          1382553227,
          1402360929,
          1403096539,
          1431395350,
          1480424836,
          1480634481,
          1484369340,
          1494321888,
          1524846851,
          1530602582,
          1553601252,
          1636105373,
          1657118073,
          1724447967,
          1732901500,
          1736529304,
          1740464327,
          1742934354,
          1786056218,
          1802067253,
          1866675393,
          1915671284,
          1919875792,
          1982353194,
          2045536088,
          2070055084,
          2075799682,
          2150863062,
          2173135488,
          2202175441,
          2224274372,
          2225080277,
          2238051064,
          2253994411,
          2264298802,
          2276420267,
          2372833154,
          2391626531,
          2404917698,
          2591659695,
          2633576213,
          2729923183,
          2760119695,
          2805629765,
          2823586219,
          2946165043,
          2950178285,
          3058134309,
          3064731663,
          3127618662,
          3207247385,
          3213040039,
          3380858792,
          3383384191,
          3386149367,
          3477866058,
          3560354020,
          3565818826,
          3654249741,
          3697087280,
          3697649508,
          3707257175,
          3896231849,
          4212612512,
          4292997182,
          4547070044,
          4585094144,
          4614260765,
          4768165548,
          4838089594,
          4855802437,
          4896033841,
          4995273295,
          5031030695,
          5087564358,
          5158751132,
          5545941750,
          5555371973,
          5578701546,
          5848372355,
          6653550141,
          6823350726,
          7189087867,
          7207917340,
          7306054355,
          7735053360,
          8045073065,
          8304292498,
          9124389514,
          9144252411,
          9296751611,
          10065463781,
          10111058383,
          10371941558,
          11828420666,
          12077930864,
          12405401601,
          14661412983,
          15458348124,
          17290105505,
          18276406224,
          18700501954,
          19843813784
         ],
         "xaxis": "x",
         "y": [
          7,
          2.5,
          5.5,
          0.5,
          0.5,
          1,
          0.5,
          75,
          4,
          2,
          24,
          0.5,
          9,
          1.5,
          0.5,
          3,
          1.5,
          0.5,
          1,
          0.5,
          13,
          1,
          28,
          10.5,
          2,
          1,
          9.5,
          6.5,
          18,
          3,
          1.5,
          2.5,
          5,
          10,
          20.5,
          0.5,
          0.5,
          0.5,
          23.5,
          0.5,
          11,
          0.5,
          6,
          16.5,
          21,
          0.5,
          1,
          18.5,
          6.5,
          13.5,
          3.5,
          5,
          9.5,
          7,
          5,
          2,
          23,
          7,
          47.5,
          1,
          4.5,
          6.5,
          84.5,
          0.5,
          21.5,
          25,
          1,
          0.5,
          3.5,
          1,
          4.5,
          1,
          0.5,
          0.5,
          0.5,
          15,
          38,
          0.5,
          2,
          0.5,
          1.5,
          4.5,
          2.5,
          1.5,
          0.5,
          9.5,
          34.5,
          1,
          2,
          1,
          0.5,
          2.5,
          1.5,
          10.5,
          1.5,
          0.5,
          1.5,
          1,
          0.5,
          1.5,
          0.5,
          1,
          1,
          10,
          0.5,
          16,
          15.5,
          0.5,
          0.5,
          183,
          21,
          0.5,
          1.5,
          9,
          2,
          43.5,
          6,
          8.5,
          1,
          0.5,
          0.5,
          1.5,
          6,
          7.5,
          49.5,
          0.5,
          37,
          2,
          0.5,
          2.5,
          2.5,
          4.5,
          7,
          5.5,
          1,
          2.5,
          3,
          2.5,
          3,
          18,
          0.5,
          1.5,
          3.5,
          8,
          0.5,
          33,
          4,
          1.5,
          28,
          0.5,
          0.5,
          0.5,
          0.5,
          14.5,
          28,
          3.5,
          8,
          1,
          22,
          6.5,
          0.5,
          0.5,
          0.5,
          15.5,
          1.5,
          1,
          0.5,
          1.5,
          3.5,
          11.5,
          0.5,
          28.5,
          4,
          2.5,
          2,
          1,
          64.5,
          25,
          0.5,
          1.5,
          48,
          0.5,
          0.5,
          0.5,
          2.5,
          12.5,
          21,
          12,
          12.5,
          2,
          0.5,
          1,
          0.5,
          2.5,
          7,
          11,
          1,
          2,
          1.5,
          15,
          10,
          17,
          0.5,
          1,
          75,
          14.5,
          13,
          1,
          48,
          4,
          6.5,
          7,
          1,
          14,
          10.5,
          0.5,
          8,
          0.5,
          4,
          0.5,
          22.5,
          23.5,
          5.5,
          1,
          3,
          0.5,
          0.5,
          4,
          0.5,
          44.5,
          10,
          1,
          1.5,
          5,
          51,
          0.5,
          0.5,
          4.5,
          2,
          0.5,
          6,
          9.5,
          19.5,
          2.5,
          0.5,
          22.5,
          17,
          4,
          63,
          11,
          22,
          0.5,
          6,
          120,
          2.5,
          3.5,
          1,
          20,
          0.5,
          0.5,
          1,
          4.5,
          2.5,
          3.5,
          4,
          0.5,
          0.5,
          8,
          1,
          10.5,
          0.5,
          1,
          12,
          65.5,
          1,
          6,
          2,
          0.5,
          4.5,
          0.5,
          0.5,
          0.5,
          13,
          1.5,
          5.5,
          0.5,
          1,
          2,
          0.5,
          34.5,
          2,
          0.5,
          1.5,
          1.5,
          4,
          2.5,
          1,
          0.5,
          1,
          3.5,
          7.5,
          139,
          1.5,
          12,
          49,
          2,
          1,
          0.5,
          2.5,
          2,
          0.5,
          29,
          0.5,
          0.5,
          17.5,
          5,
          1,
          2,
          10.5,
          0.5,
          1.5,
          27.5,
          9.5,
          9.5,
          4,
          0.5,
          1.5,
          2,
          1,
          4.5,
          85,
          28.5,
          6,
          1,
          0.5,
          6,
          0.5,
          5,
          5.5,
          0.5,
          7.5,
          1,
          12,
          3.5,
          10.5,
          0.5,
          12.5,
          0.5,
          2.5,
          0.5,
          22,
          1,
          5.5,
          12,
          2,
          9.5,
          6.5,
          2,
          3,
          1,
          3.5,
          15.5,
          0.5,
          1,
          3,
          27,
          1,
          60,
          4.5,
          0.5,
          2,
          10.5,
          10.5,
          0.5,
          1,
          8,
          6,
          1,
          1,
          1,
          3.5,
          0.5,
          2.5,
          2,
          1,
          3.5,
          0.5,
          2.5,
          2,
          0.5,
          0.5,
          5,
          2.5,
          1.5,
          18,
          3,
          0.5,
          1.5,
          1,
          7,
          28,
          1,
          54.5,
          0.5,
          7.5,
          3.5,
          4.5,
          1.5,
          0.5,
          1.5,
          1.5,
          0.5,
          1.5,
          3.5,
          1,
          3.5,
          3,
          1.5,
          1,
          4,
          10.5,
          0.5,
          0.5,
          2,
          0.5,
          1.5,
          1,
          1,
          1.5,
          4.5,
          2,
          66.5,
          3,
          1,
          0.5,
          4.5,
          0.5,
          1,
          0.5,
          1,
          8.5,
          0.5,
          0.5,
          2,
          1,
          2,
          0.5,
          4,
          23,
          2,
          1,
          4.5,
          2,
          1.5,
          11,
          0.5,
          0.5,
          0.5,
          1,
          1,
          1,
          1.5,
          7,
          5,
          2,
          1.5,
          3,
          14.5,
          0.5,
          1.5,
          3,
          1,
          1.5,
          21,
          2.5,
          2.5,
          0.5,
          0.5,
          1.5,
          0.5,
          1,
          79,
          0.5,
          3.5,
          1,
          4,
          1.5,
          1,
          1,
          0.5,
          0.5,
          3,
          3,
          2,
          0.5,
          43,
          8,
          1.5,
          2.5,
          0.5,
          24,
          17,
          1,
          2.5,
          3,
          6,
          28,
          4.5,
          14.5,
          0.5,
          8,
          2.5,
          5,
          7,
          46.5,
          13,
          2,
          0.5,
          16,
          2,
          2.5,
          1,
          4.5,
          7.5,
          4,
          0.5,
          4,
          46,
          5,
          3,
          3,
          2,
          2.5,
          1.5,
          6,
          3,
          1,
          1.5,
          5,
          5,
          0.5,
          1,
          5,
          9,
          2,
          12.5,
          13,
          21.5,
          11,
          25.5
         ],
         "yaxis": "y"
        },
        {
         "hovertemplate": "<b>OLS trendline</b><br>Certified Units = -0.643078 * log10(streams) + 13.172<br>R<sup>2</sup>=0.002832<br><br>streams=%{x}<br>Certified Units=%{y} <b>(trend)</b><extra></extra>",
         "legendgroup": "",
         "line": {
          "color": "orange"
         },
         "marker": {
          "color": "#636efa",
          "symbol": "circle"
         },
         "mode": "lines",
         "name": "",
         "showlegend": false,
         "type": "scatter",
         "x": [
          4513,
          5988,
          17601,
          19176,
          24177,
          27647,
          31328,
          34069,
          34594,
          39442,
          40805,
          43671,
          47275,
          50073,
          61742,
          72363,
          72632,
          76587,
          76587,
          85430,
          87889,
          95983,
          106305,
          111469,
          123959,
          132481,
          140499,
          178480,
          187659,
          205802,
          209659,
          248746,
          250995,
          260746,
          284519,
          314863,
          320249,
          322478,
          337632,
          373704,
          417497,
          419105,
          424355,
          451877,
          505154,
          602650,
          691373,
          696855,
          704928,
          751073,
          787515,
          921974,
          1015947,
          1098346,
          1102834,
          1122627,
          1215414,
          1229587,
          1266115,
          1305162,
          1333739,
          1333739,
          1396863,
          1408024,
          1417561,
          1482489,
          1495563,
          1580311,
          1590246,
          1623835,
          1691709,
          1768868,
          1827881,
          1848285,
          1911206,
          1913853,
          1939940,
          2088507,
          2148502,
          2175469,
          2226167,
          2274487,
          2308131,
          2323271,
          2348501,
          2543957,
          2570135,
          2772542,
          2798281,
          2979430,
          3012158,
          3026361,
          3199084,
          3236589,
          3276681,
          3384245,
          3405376,
          3579101,
          3593955,
          3724467,
          3930110,
          3934056,
          4020862,
          4027932,
          4067764,
          4220954,
          4246942,
          4285515,
          4285515,
          4454211,
          4723733,
          4746650,
          4788730,
          4935420,
          5052724,
          5120047,
          5155594,
          5260776,
          5292179,
          5318885,
          5419891,
          5538611,
          5586362,
          5660671,
          5679813,
          5735823,
          5800155,
          5995116,
          6174930,
          6442072,
          6509471,
          6675677,
          6754873,
          7370075,
          7431201,
          7483639,
          7576318,
          7599432,
          7663336,
          7879596,
          7915781,
          8014910,
          8376700,
          8474418,
          8695060,
          9363501,
          9640297,
          9673566,
          9687715,
          10202587,
          10296805,
          10309492,
          10332606,
          10957985,
          11120597,
          11183853,
          11307146,
          11654728,
          11670961,
          11710341,
          11739156,
          11882940,
          11983327,
          12017649,
          13120341,
          13189493,
          13231090,
          13804830,
          13889105,
          15273141,
          15317236,
          15660376,
          15895745,
          16003745,
          17004943,
          17142419,
          18255002,
          19219703,
          19525675,
          19676488,
          19916542,
          19916542,
          20065204,
          21509452,
          21636669,
          21943055,
          21943055,
          22156013,
          22226914,
          22673898,
          22682451,
          22805949,
          23209381,
          24113760,
          24255668,
          24307104,
          24477135,
          24575989,
          25392115,
          25454181,
          25470437,
          27363504,
          28010361,
          28291811,
          31464936,
          31554300,
          31937402,
          32813294,
          33467386,
          33626503,
          33744583,
          33818655,
          33896799,
          34467762,
          36834933,
          37633363,
          37978612,
          38096165,
          39089078,
          39599460,
          39940685,
          40583076,
          40817134,
          40843191,
          40867696,
          41104716,
          42055737,
          42298851,
          42500369,
          42915238,
          43827549,
          44411156,
          44532154,
          44796469,
          46062109,
          46737558,
          47140536,
          47159717,
          48158783,
          48415776,
          50268536,
          50685340,
          52551860,
          53395583,
          55620238,
          55620399,
          56832547,
          58371035,
          61236873,
          61456376,
          62197830,
          62530874,
          62981462,
          64996469,
          65260870,
          65693930,
          66368485,
          66655918,
          66698503,
          66777522,
          67333195,
          68502381,
          68593452,
          71307405,
          72430337,
          73580282,
          73965116,
          74850550,
          75789278,
          76029726,
          76438700,
          76869085,
          81500212,
          87839447,
          88251277,
          89467130,
          90078808,
          92497327,
          93704380,
          95755543,
          96794068,
          97722900,
          101526039,
          106592323,
          115607789,
          116189090,
          120911307,
          127198640,
          127507783,
          129122312,
          131729314,
          131869344,
          132748864,
          132939607,
          134025051,
          134689484,
          149659537,
          153981264,
          156942104,
          161722723,
          163682616,
          171056413,
          173118664,
          178921517,
          181290530,
          182816520,
          184149229,
          186267715,
          188726426,
          203014840,
          204079754,
          205328388,
          211276690,
          212641233,
          216077670,
          223451721,
          225411345,
          230933012,
          236398493,
          236421819,
          241425207,
          243449001,
          244115642,
          247674263,
          250652668,
          251270737,
          251355277,
          252456192,
          254467241,
          256458441,
          258886900,
          261293627,
          261881456,
          283937263,
          285128686,
          286919972,
          292391494,
          292769358,
          307204230,
          312145196,
          315804600,
          316079755,
          317912103,
          322208432,
          325165120,
          327407285,
          334757283,
          353802862,
          353912605,
          361634643,
          361796890,
          364595548,
          364607636,
          366848849,
          367695251,
          386627801,
          388580300,
          390999646,
          393633887,
          398541071,
          418767776,
          418890540,
          420565456,
          421973130,
          425458170,
          434462239,
          435525443,
          447580444,
          452897972,
          459932268,
          461560206,
          501235301,
          501264035,
          503940750,
          508791219,
          515854601,
          521992311,
          535146678,
          538759980,
          545381862,
          568859724,
          569297973,
          587082817,
          587862578,
          590490960,
          610462020,
          612130037,
          614501603,
          618028600,
          619159117,
          626959573,
          631512307,
          668167401,
          670493016,
          693560305,
          704354222,
          714336335,
          741032800,
          753101105,
          760508770,
          773642129,
          777974755,
          780765217,
          790926239,
          792350790,
          802122945,
          807607752,
          828614177,
          835829096,
          856962176,
          861312843,
          893730754,
          895323889,
          898055321,
          912508805,
          928788185,
          941530141,
          964345144,
          980339079,
          991454646,
          1026419426,
          1035780117,
          1052762990,
          1056382588,
          1066103085,
          1074233921,
          1100170766,
          1124853076,
          1146810533,
          1164957170,
          1166463687,
          1168360042,
          1191440189,
          1200682400,
          1201943526,
          1209643673,
          1235182354,
          1241238664,
          1249033743,
          1256129044,
          1280025747,
          1292733478,
          1294427345,
          1308334404,
          1361084860,
          1363944112,
          1367474284,
          1382553227,
          1402360929,
          1403096539,
          1431395350,
          1480424836,
          1480634481,
          1484369340,
          1494321888,
          1524846851,
          1530602582,
          1553601252,
          1636105373,
          1657118073,
          1724447967,
          1732901500,
          1736529304,
          1740464327,
          1742934354,
          1786056218,
          1802067253,
          1866675393,
          1915671284,
          1919875792,
          1982353194,
          2045536088,
          2070055084,
          2075799682,
          2150863062,
          2173135488,
          2202175441,
          2224274372,
          2225080277,
          2238051064,
          2253994411,
          2264298802,
          2276420267,
          2372833154,
          2391626531,
          2404917698,
          2591659695,
          2633576213,
          2729923183,
          2760119695,
          2805629765,
          2823586219,
          2946165043,
          2950178285,
          3058134309,
          3064731663,
          3127618662,
          3207247385,
          3213040039,
          3380858792,
          3383384191,
          3386149367,
          3477866058,
          3560354020,
          3565818826,
          3654249741,
          3697087280,
          3697649508,
          3707257175,
          3896231849,
          4212612512,
          4292997182,
          4547070044,
          4585094144,
          4614260765,
          4768165548,
          4838089594,
          4855802437,
          4896033841,
          4995273295,
          5031030695,
          5087564358,
          5158751132,
          5545941750,
          5555371973,
          5578701546,
          5848372355,
          6653550141,
          6823350726,
          7189087867,
          7207917340,
          7306054355,
          7735053360,
          8045073065,
          8304292498,
          9124389514,
          9144252411,
          9296751611,
          10065463781,
          10111058383,
          10371941558,
          11828420666,
          12077930864,
          12405401601,
          14661412983,
          15458348124,
          17290105505,
          18276406224,
          18700501954,
          19843813784
         ],
         "xaxis": "x",
         "y": [
          10.821853875922368,
          10.742873328954618,
          10.441748543918372,
          10.417812749332793,
          10.353090569187259,
          10.315634111181875,
          10.28072484890912,
          10.257299633690613,
          10.253028699618651,
          10.216400175025543,
          10.206911912458747,
          10.187954134548272,
          10.165807560934892,
          10.149748572423858,
          10.091243224109757,
          10.04691209130933,
          10.045875810090639,
          10.031067620512664,
          10.031067620512664,
          10.00055013594329,
          9.99262476913442,
          9.968020740288598,
          9.939494209653024,
          9.926246539682943,
          9.896585242123585,
          9.878016025345715,
          9.861604912336912,
          9.794778623412563,
          9.780772489893117,
          9.75499780438413,
          9.74981207643626,
          9.702068305732517,
          9.699554537225032,
          9.688909936223348,
          9.664541388355378,
          9.636239302472575,
          9.631502292302107,
          9.629565142794634,
          9.61673991295839,
          9.588390374617232,
          9.557441857841642,
          9.55636825029411,
          9.552891461607999,
          9.535341279151552,
          9.504214020997278,
          9.454927655052352,
          9.416569825513292,
          9.414364064967932,
          9.41114717030343,
          9.39343848485419,
          9.380206074198831,
          9.336181066189797,
          9.309073804332531,
          9.287293965355168,
          9.286155091122252,
          9.28118709825728,
          9.259008145255402,
          9.255770229942165,
          9.247594207833519,
          9.23911119605371,
          9.233062129123997,
          9.233062129123997,
          9.2201472197305,
          9.217924585974332,
          9.216039275281727,
          9.203531588593972,
          9.201079383054214,
          9.185685480786757,
          9.183935184373592,
          9.17809758961539,
          9.166661245814485,
          9.154204978144472,
          9.145039515071002,
          9.141939223527032,
          9.132589796476072,
          9.132203257094504,
          9.128422138811938,
          9.107813012316939,
          9.09990326565196,
          9.096419624849716,
          9.089985732599274,
          9.08398856948039,
          9.079887665073645,
          9.078061698518919,
          9.075045098645278,
          9.052718067085676,
          9.049858833772042,
          9.028687296669862,
          9.026106503055358,
          9.008587863864381,
          9.005536740842656,
          9.004222943660656,
          8.98872160802851,
          8.985466405664027,
          8.982028119652746,
          8.973007259179465,
          8.971268842841061,
          8.957372648178097,
          8.956215956278491,
          8.946253718175639,
          8.931243910540871,
          8.930963636857944,
          8.92486813944181,
          8.924377495333173,
          8.921629225939885,
          8.911304693753848,
          8.90959043418907,
          8.907065266970227,
          8.907065266970227,
          8.896282287273019,
          8.879874440899368,
          8.878522776284347,
          8.87605776778754,
          8.867631026117216,
          8.861070693332998,
          8.85737404269831,
          8.855441746769227,
          8.849801245994438,
          8.848139073045491,
          8.846733256329902,
          8.841479340972237,
          8.835427777909686,
          8.833030247923535,
          8.829339727253014,
          8.828396895914747,
          8.825656288549897,
          8.822541310351234,
          8.813308003899685,
          8.80505445434118,
          8.793225978490533,
          8.790319187959437,
          8.78327773035894,
          8.779983967273722,
          8.755640434860197,
          8.75333364961814,
          8.751369804718708,
          8.747932318504857,
          8.747081566156714,
          8.744742862722571,
          8.736970569897654,
          8.735690961104117,
          8.732215202618146,
          8.719884626752355,
          8.716645495150274,
          8.70946700881801,
          8.68878197293683,
          8.680645653443193,
          8.67968348988217,
          8.67927529306791,
          8.664813145046509,
          8.66224586152006,
          8.661901957767352,
          8.661276498070382,
          8.644864615458811,
          8.64075058841507,
          8.63916646414848,
          8.636104416817508,
          8.627648494234538,
          8.627259769430701,
          8.626318995430967,
          8.625632617697399,
          8.622232645466774,
          8.619883156459647,
          8.619084386256992,
          8.594566651799262,
          8.593098518420923,
          8.59221909536443,
          8.580363672236757,
          8.578663889913791,
          8.552134290937353,
          8.551329130005861,
          8.545141575324216,
          8.54097526534809,
          8.53908414333327,
          8.522136753428185,
          8.519887957995895,
          8.502325643456722,
          8.487943343484837,
          8.483532225374528,
          8.481383362183367,
          8.477996688095388,
          8.477996688095388,
          8.475919776112345,
          8.456507977568638,
          8.454861019559178,
          8.45093394205915,
          8.45093394205915,
          8.44823653928669,
          8.447344231536267,
          8.441783524631926,
          8.44167819313311,
          8.440161707831255,
          8.43526440674339,
          8.424588428961602,
          8.422949670115802,
          8.422358051601309,
          8.42041122080255,
          8.419285563898931,
          8.410161657089079,
          8.40947983270846,
          8.409301527593957,
          8.389279096419259,
          8.382753787515018,
          8.37996151631721,
          8.350273115885155,
          8.349481038466042,
          8.346110645064261,
          8.338554322554993,
          8.333041882799378,
          8.33171719875436,
          8.330738202305902,
          8.33012582136581,
          8.329481227881313,
          8.324816085431817,
          8.306265347372097,
          8.300276269666222,
          8.297725784859953,
          8.296862664721262,
          8.28967680468085,
          8.28605380881428,
          8.283657542936545,
          8.279201365396705,
          8.277595248923319,
          8.277417014658585,
          8.277249500056467,
          8.275634411406534,
          8.269246335479803,
          8.26763650428793,
          8.266309107753393,
          8.26359607495909,
          8.257721135048676,
          8.254026720935844,
          8.25326684437686,
          8.251614082398046,
          8.243832817073148,
          8.239767151147696,
          8.237369435838406,
          8.237255820682536,
          8.231401038268498,
          8.229914632230443,
          8.219426456414872,
          8.21712029753991,
          8.207020291491727,
          8.202571966952348,
          8.191171797379361,
          8.191170988953338,
          8.185149838099278,
          8.177689958374023,
          8.16430389899511,
          8.163304593830912,
          8.1599552602827,
          8.15846379169318,
          8.156458521262644,
          8.147663128430896,
          8.146529320832293,
          8.144682154057458,
          8.141829035733043,
          8.14062210079226,
          8.140443728610897,
          8.140113049934481,
          8.137798661922174,
          8.132990725917377,
          8.132619674760704,
          8.12178254408325,
          8.117418698738394,
          8.113019440236606,
          8.111562550691648,
          8.108239090031848,
          8.104758254866166,
          8.103873601224844,
          8.10237531530219,
          8.100807221877247,
          8.084468525000062,
          8.063548652176522,
          8.062242300316893,
          8.058420805190007,
          8.056517857580157,
          8.049118248546304,
          8.045497264257222,
          8.039449739410035,
          8.036437035878462,
          8.033769803504354,
          8.02310686740539,
          8.009506745023312,
          7.98683106779671,
          7.985430280251839,
          7.974304026311374,
          7.960146311807083,
          7.959468361894984,
          7.955954199147907,
          7.950371552352382,
          7.950074826210378,
          7.948218281254583,
          7.947817272504378,
          7.94554618472991,
          7.94416504125483,
          7.914730911475077,
          7.906780229080557,
          7.9014609524169845,
          7.8930806351228044,
          7.88971636534443,
          7.87740991048227,
          7.874062991672146,
          7.864854965465514,
          7.861181352937464,
          7.858840344291639,
          7.856811776227021,
          7.853617169776013,
          7.849954758599106,
          7.829572360561317,
          7.828111199577195,
          7.826407637738529,
          7.81843180862267,
          7.816633828764023,
          7.812156459328733,
          7.802784360854747,
          7.800345766789545,
          7.793586857809783,
          7.787054033094296,
          7.787026476723393,
          7.781177646130575,
          7.778846241697271,
          7.778082515018101,
          7.774040596233066,
          7.77070208808447,
          7.770014263635802,
          7.769920313987095,
          7.768699739449927,
          7.76648378699134,
          7.764306893282484,
          7.7616747258501,
          7.759090361664046,
          7.758462762995048,
          7.735879382573762,
          7.734709931950018,
          7.732960845581119,
          7.727685063907005,
          7.727324370511994,
          7.713883032659982,
          7.709426847636097,
          7.706171718470652,
          7.705928488151861,
          7.704314117096199,
          7.700565076285309,
          7.698013953034005,
          7.696094760930089,
          7.689894399654798,
          7.674440397562221,
          7.674353781981855,
          7.66832557224016,
          7.668200299342565,
          7.6660482187053,
          7.666038959285589,
          7.664327471230008,
          7.663683840348295,
          7.64966148958113,
          7.648254628190461,
          7.646521157138202,
          7.644645868392956,
          7.641185720486277,
          7.627359435574917,
          7.627277573640204,
          7.626163090386053,
          7.625229856351328,
          7.622932736843426,
          7.617083835368862,
          7.6164012113116915,
          7.6087758693618905,
          7.605477347237324,
          7.601172902936763,
          7.600186113719685,
          7.5771553783888566,
          7.577139368442781,
          7.575651972860964,
          7.57297668567287,
          7.56912612761314,
          7.565822766853829,
          7.558871913030233,
          7.556992521606967,
          7.553580760552583,
          7.541809544205597,
          7.541594466006813,
          7.533003117973643,
          7.532632418673993,
          7.531386494909079,
          7.522096980239677,
          7.521334906410883,
          7.520254966804596,
          7.518656562720669,
          7.518146152345376,
          7.514649567028264,
          7.51262883590395,
          7.496871199948087,
          7.49590081129372,
          7.486454016334996,
          7.482140961669794,
          7.478210714658231,
          7.467963467979436,
          7.463451727853843,
          7.460718041253721,
          7.4559361882496935,
          7.454376471597851,
          7.4533765158539245,
          7.449765295202004,
          7.449262722282501,
          7.4458393329733426,
          7.44393611872627,
          7.436764591086393,
          7.43434332200202,
          7.427369677171305,
          7.425955375772895,
          7.415636689915439,
          7.415139288561077,
          7.414288549304741,
          7.409829464462663,
          7.404890871774176,
          7.401085429256682,
          7.394398531643125,
          7.3898045008333515,
          7.386655646168042,
          7.376976031132298,
          7.374440563440215,
          7.369898479396208,
          7.368939891183502,
          7.366381749379785,
          7.364259809840464,
          7.35759672650208,
          7.351400221224475,
          7.346001021153269,
          7.341616332553211,
          7.341255395644005,
          7.340801722038098,
          7.335338421962132,
          7.333180317397656,
          7.332887126667257,
          7.331103617288855,
          7.325268572745396,
          7.323902536078659,
          7.322154087122552,
          7.320572060058947,
          7.315308822681911,
          7.312549831731364,
          7.31218412427242,
          7.309199546571851,
          7.29816018791972,
          7.297574104623076,
          7.296852190142964,
          7.293789408124221,
          7.289816509535238,
          7.289670048594058,
          7.284093245954094,
          7.274687100027706,
          7.27464755286984,
          7.273943950881098,
          7.272077621531653,
          7.266430066990106,
          7.265377853714739,
          7.261212560544816,
          7.246761502098612,
          7.243197446827884,
          7.232074359846426,
          7.230708601972437,
          7.230124533695426,
          7.229492381805608,
          7.229096307686005,
          7.222270618331134,
          7.219778131999085,
          7.209940450292472,
          7.20270441800047,
          7.202092115666539,
          7.193148251391249,
          7.184385600891423,
          7.18105782961198,
          7.180283860352616,
          7.170362892082599,
          7.167485734154341,
          7.163778318832525,
          7.160989648317664,
          7.160888475299406,
          7.159265149248956,
          7.157282640771452,
          7.156008766556668,
          7.154517657577597,
          7.142932765053907,
          7.140729476912102,
          7.1391816811680595,
          7.118295954626289,
          7.113815041879617,
          7.103780110192299,
          7.100707812469914,
          7.0961403876753435,
          7.0943586161531735,
          7.08248995891547,
          7.082109777811416,
          7.07207242986311,
          7.071470573192466,
          7.0657977642267955,
          7.058776213058325,
          7.058272247206031,
          7.044053220146168,
          7.0438446804676245,
          7.043616519193865,
          7.03615248104114,
          7.029605735031178,
          7.029177387411864,
          7.022335713203348,
          7.019080788320508,
          7.01903831975161,
          7.018313589364591,
          7.004428201912581,
          6.98262353965249,
          6.977344455451401,
          6.961286131577059,
          6.958960367719228,
          6.957189410481863,
          6.948026070778502,
          6.943960158747323,
          6.942939528456406,
          6.940635121770288,
          6.9350307991662055,
          6.933038728312579,
          6.9299179041183745,
          6.926037147102619,
          6.9058247422126415,
          6.905350253848755,
          6.904179862194925,
          6.890995551768665,
          6.854971346212791,
          6.847933334168197,
          6.833350838046925,
          6.83262029783504,
          6.828843436275828,
          6.812907699586496,
          6.801932496118135,
          6.793075612821889,
          6.7667729695157455,
          6.766165654004519,
          6.761546411335675,
          6.739358576599607,
          6.738096325566814,
          6.730981670192951,
          6.6942833377701385,
          6.688453336560882,
          6.680981871971349,
          6.6343169266831,
          6.619534330738996,
          6.588258521272066,
          6.572764743737411,
          6.566358105167158,
          6.5497847799656865
         ],
         "yaxis": "y"
        }
       ],
       "layout": {
        "legend": {
         "tracegroupgap": 0
        },
        "template": {
         "data": {
          "bar": [
           {
            "error_x": {
             "color": "#2a3f5f"
            },
            "error_y": {
             "color": "#2a3f5f"
            },
            "marker": {
             "line": {
              "color": "#E5ECF6",
              "width": 0.5
             },
             "pattern": {
              "fillmode": "overlay",
              "size": 10,
              "solidity": 0.2
             }
            },
            "type": "bar"
           }
          ],
          "barpolar": [
           {
            "marker": {
             "line": {
              "color": "#E5ECF6",
              "width": 0.5
             },
             "pattern": {
              "fillmode": "overlay",
              "size": 10,
              "solidity": 0.2
             }
            },
            "type": "barpolar"
           }
          ],
          "carpet": [
           {
            "aaxis": {
             "endlinecolor": "#2a3f5f",
             "gridcolor": "white",
             "linecolor": "white",
             "minorgridcolor": "white",
             "startlinecolor": "#2a3f5f"
            },
            "baxis": {
             "endlinecolor": "#2a3f5f",
             "gridcolor": "white",
             "linecolor": "white",
             "minorgridcolor": "white",
             "startlinecolor": "#2a3f5f"
            },
            "type": "carpet"
           }
          ],
          "choropleth": [
           {
            "colorbar": {
             "outlinewidth": 0,
             "ticks": ""
            },
            "type": "choropleth"
           }
          ],
          "contour": [
           {
            "colorbar": {
             "outlinewidth": 0,
             "ticks": ""
            },
            "colorscale": [
             [
              0,
              "#0d0887"
             ],
             [
              0.1111111111111111,
              "#46039f"
             ],
             [
              0.2222222222222222,
              "#7201a8"
             ],
             [
              0.3333333333333333,
              "#9c179e"
             ],
             [
              0.4444444444444444,
              "#bd3786"
             ],
             [
              0.5555555555555556,
              "#d8576b"
             ],
             [
              0.6666666666666666,
              "#ed7953"
             ],
             [
              0.7777777777777778,
              "#fb9f3a"
             ],
             [
              0.8888888888888888,
              "#fdca26"
             ],
             [
              1,
              "#f0f921"
             ]
            ],
            "type": "contour"
           }
          ],
          "contourcarpet": [
           {
            "colorbar": {
             "outlinewidth": 0,
             "ticks": ""
            },
            "type": "contourcarpet"
           }
          ],
          "heatmap": [
           {
            "colorbar": {
             "outlinewidth": 0,
             "ticks": ""
            },
            "colorscale": [
             [
              0,
              "#0d0887"
             ],
             [
              0.1111111111111111,
              "#46039f"
             ],
             [
              0.2222222222222222,
              "#7201a8"
             ],
             [
              0.3333333333333333,
              "#9c179e"
             ],
             [
              0.4444444444444444,
              "#bd3786"
             ],
             [
              0.5555555555555556,
              "#d8576b"
             ],
             [
              0.6666666666666666,
              "#ed7953"
             ],
             [
              0.7777777777777778,
              "#fb9f3a"
             ],
             [
              0.8888888888888888,
              "#fdca26"
             ],
             [
              1,
              "#f0f921"
             ]
            ],
            "type": "heatmap"
           }
          ],
          "heatmapgl": [
           {
            "colorbar": {
             "outlinewidth": 0,
             "ticks": ""
            },
            "colorscale": [
             [
              0,
              "#0d0887"
             ],
             [
              0.1111111111111111,
              "#46039f"
             ],
             [
              0.2222222222222222,
              "#7201a8"
             ],
             [
              0.3333333333333333,
              "#9c179e"
             ],
             [
              0.4444444444444444,
              "#bd3786"
             ],
             [
              0.5555555555555556,
              "#d8576b"
             ],
             [
              0.6666666666666666,
              "#ed7953"
             ],
             [
              0.7777777777777778,
              "#fb9f3a"
             ],
             [
              0.8888888888888888,
              "#fdca26"
             ],
             [
              1,
              "#f0f921"
             ]
            ],
            "type": "heatmapgl"
           }
          ],
          "histogram": [
           {
            "marker": {
             "pattern": {
              "fillmode": "overlay",
              "size": 10,
              "solidity": 0.2
             }
            },
            "type": "histogram"
           }
          ],
          "histogram2d": [
           {
            "colorbar": {
             "outlinewidth": 0,
             "ticks": ""
            },
            "colorscale": [
             [
              0,
              "#0d0887"
             ],
             [
              0.1111111111111111,
              "#46039f"
             ],
             [
              0.2222222222222222,
              "#7201a8"
             ],
             [
              0.3333333333333333,
              "#9c179e"
             ],
             [
              0.4444444444444444,
              "#bd3786"
             ],
             [
              0.5555555555555556,
              "#d8576b"
             ],
             [
              0.6666666666666666,
              "#ed7953"
             ],
             [
              0.7777777777777778,
              "#fb9f3a"
             ],
             [
              0.8888888888888888,
              "#fdca26"
             ],
             [
              1,
              "#f0f921"
             ]
            ],
            "type": "histogram2d"
           }
          ],
          "histogram2dcontour": [
           {
            "colorbar": {
             "outlinewidth": 0,
             "ticks": ""
            },
            "colorscale": [
             [
              0,
              "#0d0887"
             ],
             [
              0.1111111111111111,
              "#46039f"
             ],
             [
              0.2222222222222222,
              "#7201a8"
             ],
             [
              0.3333333333333333,
              "#9c179e"
             ],
             [
              0.4444444444444444,
              "#bd3786"
             ],
             [
              0.5555555555555556,
              "#d8576b"
             ],
             [
              0.6666666666666666,
              "#ed7953"
             ],
             [
              0.7777777777777778,
              "#fb9f3a"
             ],
             [
              0.8888888888888888,
              "#fdca26"
             ],
             [
              1,
              "#f0f921"
             ]
            ],
            "type": "histogram2dcontour"
           }
          ],
          "mesh3d": [
           {
            "colorbar": {
             "outlinewidth": 0,
             "ticks": ""
            },
            "type": "mesh3d"
           }
          ],
          "parcoords": [
           {
            "line": {
             "colorbar": {
              "outlinewidth": 0,
              "ticks": ""
             }
            },
            "type": "parcoords"
           }
          ],
          "pie": [
           {
            "automargin": true,
            "type": "pie"
           }
          ],
          "scatter": [
           {
            "fillpattern": {
             "fillmode": "overlay",
             "size": 10,
             "solidity": 0.2
            },
            "type": "scatter"
           }
          ],
          "scatter3d": [
           {
            "line": {
             "colorbar": {
              "outlinewidth": 0,
              "ticks": ""
             }
            },
            "marker": {
             "colorbar": {
              "outlinewidth": 0,
              "ticks": ""
             }
            },
            "type": "scatter3d"
           }
          ],
          "scattercarpet": [
           {
            "marker": {
             "colorbar": {
              "outlinewidth": 0,
              "ticks": ""
             }
            },
            "type": "scattercarpet"
           }
          ],
          "scattergeo": [
           {
            "marker": {
             "colorbar": {
              "outlinewidth": 0,
              "ticks": ""
             }
            },
            "type": "scattergeo"
           }
          ],
          "scattergl": [
           {
            "marker": {
             "colorbar": {
              "outlinewidth": 0,
              "ticks": ""
             }
            },
            "type": "scattergl"
           }
          ],
          "scattermapbox": [
           {
            "marker": {
             "colorbar": {
              "outlinewidth": 0,
              "ticks": ""
             }
            },
            "type": "scattermapbox"
           }
          ],
          "scatterpolar": [
           {
            "marker": {
             "colorbar": {
              "outlinewidth": 0,
              "ticks": ""
             }
            },
            "type": "scatterpolar"
           }
          ],
          "scatterpolargl": [
           {
            "marker": {
             "colorbar": {
              "outlinewidth": 0,
              "ticks": ""
             }
            },
            "type": "scatterpolargl"
           }
          ],
          "scatterternary": [
           {
            "marker": {
             "colorbar": {
              "outlinewidth": 0,
              "ticks": ""
             }
            },
            "type": "scatterternary"
           }
          ],
          "surface": [
           {
            "colorbar": {
             "outlinewidth": 0,
             "ticks": ""
            },
            "colorscale": [
             [
              0,
              "#0d0887"
             ],
             [
              0.1111111111111111,
              "#46039f"
             ],
             [
              0.2222222222222222,
              "#7201a8"
             ],
             [
              0.3333333333333333,
              "#9c179e"
             ],
             [
              0.4444444444444444,
              "#bd3786"
             ],
             [
              0.5555555555555556,
              "#d8576b"
             ],
             [
              0.6666666666666666,
              "#ed7953"
             ],
             [
              0.7777777777777778,
              "#fb9f3a"
             ],
             [
              0.8888888888888888,
              "#fdca26"
             ],
             [
              1,
              "#f0f921"
             ]
            ],
            "type": "surface"
           }
          ],
          "table": [
           {
            "cells": {
             "fill": {
              "color": "#EBF0F8"
             },
             "line": {
              "color": "white"
             }
            },
            "header": {
             "fill": {
              "color": "#C8D4E3"
             },
             "line": {
              "color": "white"
             }
            },
            "type": "table"
           }
          ]
         },
         "layout": {
          "annotationdefaults": {
           "arrowcolor": "#2a3f5f",
           "arrowhead": 0,
           "arrowwidth": 1
          },
          "autotypenumbers": "strict",
          "coloraxis": {
           "colorbar": {
            "outlinewidth": 0,
            "ticks": ""
           }
          },
          "colorscale": {
           "diverging": [
            [
             0,
             "#8e0152"
            ],
            [
             0.1,
             "#c51b7d"
            ],
            [
             0.2,
             "#de77ae"
            ],
            [
             0.3,
             "#f1b6da"
            ],
            [
             0.4,
             "#fde0ef"
            ],
            [
             0.5,
             "#f7f7f7"
            ],
            [
             0.6,
             "#e6f5d0"
            ],
            [
             0.7,
             "#b8e186"
            ],
            [
             0.8,
             "#7fbc41"
            ],
            [
             0.9,
             "#4d9221"
            ],
            [
             1,
             "#276419"
            ]
           ],
           "sequential": [
            [
             0,
             "#0d0887"
            ],
            [
             0.1111111111111111,
             "#46039f"
            ],
            [
             0.2222222222222222,
             "#7201a8"
            ],
            [
             0.3333333333333333,
             "#9c179e"
            ],
            [
             0.4444444444444444,
             "#bd3786"
            ],
            [
             0.5555555555555556,
             "#d8576b"
            ],
            [
             0.6666666666666666,
             "#ed7953"
            ],
            [
             0.7777777777777778,
             "#fb9f3a"
            ],
            [
             0.8888888888888888,
             "#fdca26"
            ],
            [
             1,
             "#f0f921"
            ]
           ],
           "sequentialminus": [
            [
             0,
             "#0d0887"
            ],
            [
             0.1111111111111111,
             "#46039f"
            ],
            [
             0.2222222222222222,
             "#7201a8"
            ],
            [
             0.3333333333333333,
             "#9c179e"
            ],
            [
             0.4444444444444444,
             "#bd3786"
            ],
            [
             0.5555555555555556,
             "#d8576b"
            ],
            [
             0.6666666666666666,
             "#ed7953"
            ],
            [
             0.7777777777777778,
             "#fb9f3a"
            ],
            [
             0.8888888888888888,
             "#fdca26"
            ],
            [
             1,
             "#f0f921"
            ]
           ]
          },
          "colorway": [
           "#636efa",
           "#EF553B",
           "#00cc96",
           "#ab63fa",
           "#FFA15A",
           "#19d3f3",
           "#FF6692",
           "#B6E880",
           "#FF97FF",
           "#FECB52"
          ],
          "font": {
           "color": "#2a3f5f"
          },
          "geo": {
           "bgcolor": "white",
           "lakecolor": "white",
           "landcolor": "#E5ECF6",
           "showlakes": true,
           "showland": true,
           "subunitcolor": "white"
          },
          "hoverlabel": {
           "align": "left"
          },
          "hovermode": "closest",
          "mapbox": {
           "style": "light"
          },
          "paper_bgcolor": "white",
          "plot_bgcolor": "#E5ECF6",
          "polar": {
           "angularaxis": {
            "gridcolor": "white",
            "linecolor": "white",
            "ticks": ""
           },
           "bgcolor": "#E5ECF6",
           "radialaxis": {
            "gridcolor": "white",
            "linecolor": "white",
            "ticks": ""
           }
          },
          "scene": {
           "xaxis": {
            "backgroundcolor": "#E5ECF6",
            "gridcolor": "white",
            "gridwidth": 2,
            "linecolor": "white",
            "showbackground": true,
            "ticks": "",
            "zerolinecolor": "white"
           },
           "yaxis": {
            "backgroundcolor": "#E5ECF6",
            "gridcolor": "white",
            "gridwidth": 2,
            "linecolor": "white",
            "showbackground": true,
            "ticks": "",
            "zerolinecolor": "white"
           },
           "zaxis": {
            "backgroundcolor": "#E5ECF6",
            "gridcolor": "white",
            "gridwidth": 2,
            "linecolor": "white",
            "showbackground": true,
            "ticks": "",
            "zerolinecolor": "white"
           }
          },
          "shapedefaults": {
           "line": {
            "color": "#2a3f5f"
           }
          },
          "ternary": {
           "aaxis": {
            "gridcolor": "white",
            "linecolor": "white",
            "ticks": ""
           },
           "baxis": {
            "gridcolor": "white",
            "linecolor": "white",
            "ticks": ""
           },
           "bgcolor": "#E5ECF6",
           "caxis": {
            "gridcolor": "white",
            "linecolor": "white",
            "ticks": ""
           }
          },
          "title": {
           "x": 0.05
          },
          "xaxis": {
           "automargin": true,
           "gridcolor": "white",
           "linecolor": "white",
           "ticks": "",
           "title": {
            "standoff": 15
           },
           "zerolinecolor": "white",
           "zerolinewidth": 2
          },
          "yaxis": {
           "automargin": true,
           "gridcolor": "white",
           "linecolor": "white",
           "ticks": "",
           "title": {
            "standoff": 15
           },
           "zerolinecolor": "white",
           "zerolinewidth": 2
          }
         }
        },
        "title": {
         "text": "Album sales and streams per artist"
        },
        "xaxis": {
         "anchor": "y",
         "domain": [
          0,
          1
         ],
         "title": {
          "text": "streams"
         }
        },
        "yaxis": {
         "anchor": "x",
         "domain": [
          0,
          1
         ],
         "title": {
          "text": "Certified Units"
         }
        }
       }
      }
     },
     "metadata": {},
     "output_type": "display_data"
    },
    {
     "name": "stdout",
     "output_type": "stream",
     "text": [
      "-0.011337900102258502\n"
     ]
    }
   ],
   "source": [
    "# Here we will start to look at correlations between awards and spotify streams\n",
    "# On the x-axis we will put the amount of streams on spotify\n",
    "# On the y-axis we will put the amount of album sales by an artist\n",
    "# This will be a scatterplot where you can hover over the points to see what point corresponds to which artists\n",
    "\n",
    "streams = pd.read_csv('../dataset/streams_p_artists.csv')\n",
    "streams = streams.rename(columns={'artist_individual': 'Artist'})\n",
    "streams['Artist'] = streams['Artist'].str.upper()\n",
    "album_sales = pd.read_csv('../cleaned/riaakaggle.csv')\n",
    "\n",
    "df = pd.merge(streams, album_sales, on='Artist')\n",
    "px.scatter(df, x='streams', y='Certified Units', hover_data='Artist', trendline=\"ols\", trendline_options=dict(log_x=True), trendline_color_override=\"orange\", title='Album sales and streams per artist').show()\n",
    "print(df['streams'].corr(df['Certified Units']))"
   ]
  }
 ],
 "metadata": {
  "kernelspec": {
   "display_name": "jupyterbook",
   "language": "python",
   "name": "python3"
  },
  "language_info": {
   "codemirror_mode": {
    "name": "ipython",
    "version": 3
   },
   "file_extension": ".py",
   "mimetype": "text/x-python",
   "name": "python",
   "nbconvert_exporter": "python",
   "pygments_lexer": "ipython3",
   "version": "3.10.6"
  },
  "orig_nbformat": 4
 },
 "nbformat": 4,
 "nbformat_minor": 2
}
