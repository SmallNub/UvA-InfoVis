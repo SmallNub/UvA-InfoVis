{
 "cells": [
  {
   "attachments": {},
   "cell_type": "markdown",
   "metadata": {},
   "source": [
    "# Album sales and streams"
   ]
  },
  {
   "attachments": {},
   "cell_type": "markdown",
   "metadata": {},
   "source": [
    "Here we look at the album sales from the "
   ]
  },
  {
   "cell_type": "code",
   "execution_count": 96,
   "metadata": {},
   "outputs": [],
   "source": [
    "import plotly.graph_objs as go\n",
    "import plotly.express as px\n",
    "import pandas as pd"
   ]
  },
  {
   "cell_type": "code",
   "execution_count": 98,
   "metadata": {},
   "outputs": [
    {
     "data": {
      "application/vnd.plotly.v1+json": {
       "config": {
        "plotlyServerURL": "https://plot.ly"
       },
       "data": [
        {
         "customdata": [
          [
           "RADIOHEAD"
          ],
          [
           "THE STROKES"
          ],
          [
           "GINUWINE"
          ],
          [
           "MICHEL'LE"
          ],
          [
           "STRAIGHT NO CHASER"
          ],
          [
           "INNER CIRCLE"
          ],
          [
           "OMARION"
          ],
          [
           "PINK FLOYD"
          ],
          [
           "CIARA"
          ],
          [
           "SURVIVOR"
          ],
          [
           "GREEN DAY"
          ],
          [
           "LUNY TUNES"
          ],
          [
           "RAGE AGAINST THE MACHINE"
          ],
          [
           "DAVID GRAY"
          ],
          [
           "SUFJAN STEVENS"
          ],
          [
           "TEVIN CAMPBELL"
          ],
          [
           "LEONARD COHEN"
          ],
          [
           "NEEDTOBREATHE"
          ],
          [
           "GAVIN DEGRAW"
          ],
          [
           "EDWARD SHARPE & THE MAGNETIC ZEROS"
          ],
          [
           "TRACY CHAPMAN"
          ],
          [
           "PHILLIP PHILLIPS"
          ],
          [
           "MICHAEL BOLTON"
          ],
          [
           "BRANDY"
          ],
          [
           "AMY WINEHOUSE"
          ],
          [
           "ROBYN"
          ],
          [
           "SUBLIME"
          ],
          [
           "ENGELBERT HUMPERDINCK"
          ],
          [
           "STING"
          ],
          [
           "JAMIE FOXX"
          ],
          [
           "OLD DOMINION"
          ],
          [
           "EPMD"
          ],
          [
           "FIVE FINGER DEATH PUNCH"
          ],
          [
           "KIRK FRANKLIN"
          ],
          [
           "MARY J. BLIGE"
          ],
          [
           "OMI"
          ],
          [
           "DAMIAN MARLEY"
          ],
          [
           "JAMES"
          ],
          [
           "JOHNNY CASH"
          ],
          [
           "ELEVATION WORSHIP"
          ],
          [
           "SPICE GIRLS"
          ],
          [
           "MIKE OLDFIELD"
          ],
          [
           "BUSTA RHYMES"
          ],
          [
           "JOHNNY MATHIS"
          ],
          [
           "KISS"
          ],
          [
           "LOS BUKIS"
          ],
          [
           "NATASHA BEDINGFIELD"
          ],
          [
           "RASCAL FLATTS"
          ],
          [
           "IRON MAIDEN"
          ],
          [
           "PAUL SIMON"
          ],
          [
           "MUSE"
          ],
          [
           "THE CLASH"
          ],
          [
           "MEN AT WORK"
          ],
          [
           "DOLLY PARTON"
          ],
          [
           "THE FRAY"
          ],
          [
           "ROXETTE"
          ],
          [
           "TLC"
          ],
          [
           "AALIYAH"
          ],
          [
           "KENNY ROGERS"
          ],
          [
           "JADAKISS"
          ],
          [
           "ANNIE LENNOX"
          ],
          [
           "EURYTHMICS"
          ],
          [
           "BILLY JOEL"
          ],
          [
           "THE WIGGLES"
          ],
          [
           "BOB MARLEY & THE WAILERS"
          ],
          [
           "TOBY KEITH"
          ],
          [
           "BRONCO"
          ],
          [
           "ROBBIE WILLIAMS"
          ],
          [
           "LITTLE BIG TOWN"
          ],
          [
           "CAPITAL CITIES"
          ],
          [
           "DIERKS BENTLEY"
          ],
          [
           "BANDA EL RECODO"
          ],
          [
           "ETTA JAMES"
          ],
          [
           "GRUPO MOJADO"
          ],
          [
           "TAMIA"
          ],
          [
           "INXS"
          ],
          [
           "ROD STEWART"
          ],
          [
           "CHRIS DE BURGH"
          ],
          [
           "NEW ORDER"
          ],
          [
           "LILY ALLEN"
          ],
          [
           "ISRAEL KAMAKAWIWO'OLE"
          ],
          [
           "PAPA ROACH"
          ],
          [
           "STEVE PERRY"
          ],
          [
           "FANTASIA"
          ],
          [
           "THE DARKNESS"
          ],
          [
           "AIR SUPPLY"
          ],
          [
           "BON JOVI"
          ],
          [
           "VOLBEAT"
          ],
          [
           "GROVER WASHINGTON, JR."
          ],
          [
           "JAKE OWEN"
          ],
          [
           "FRANKIE GOES TO HOLLYWOOD"
          ],
          [
           "OTIS REDDING"
          ],
          [
           "BILL WITHERS"
          ],
          [
           "STEVIE NICKS"
          ],
          [
           "MARIO"
          ],
          [
           "RUSSELL DICKERSON"
          ],
          [
           "GERRY RAFFERTY"
          ],
          [
           "WALE"
          ],
          [
           "PHIL SPECTOR"
          ],
          [
           "FAT JOE"
          ],
          [
           "DIDDY"
          ],
          [
           "IGGY AZALEA"
          ],
          [
           "LUPE FIASCO"
          ],
          [
           "ARETHA FRANKLIN"
          ],
          [
           "TEE GRIZZLEY"
          ],
          [
           "ANDREA BOCELLI"
          ],
          [
           "CHRISTINA AGUILERA"
          ],
          [
           "RZA"
          ],
          [
           "CAPPADONNA"
          ],
          [
           "THE BEATLES"
          ],
          [
           "MEAT LOAF"
          ],
          [
           "SOLANGE"
          ],
          [
           "SELENA GOMEZ & THE SCENE"
          ],
          [
           "DONNA SUMMER"
          ],
          [
           "DEATH CAB FOR CUTIE"
          ],
          [
           "SANTANA"
          ],
          [
           "SLIPKNOT"
          ],
          [
           "ERIC CHURCH"
          ],
          [
           "TOM PETTY"
          ],
          [
           "ELLE KING"
          ],
          [
           "ROBERT MILES"
          ],
          [
           "RAEKWON"
          ],
          [
           "MUMFORD & SONS"
          ],
          [
           "KENNY LOGGINS"
          ],
          [
           "NEIL DIAMOND"
          ],
          [
           "KEVIN LYTTLE"
          ],
          [
           "BACKSTREET BOYS"
          ],
          [
           "EIFFEL 65"
          ],
          [
           "FITZ AND THE TANTRUMS"
          ],
          [
           "METHOD MAN"
          ],
          [
           "LOUIS ARMSTRONG"
          ],
          [
           "JOSH TURNER"
          ],
          [
           "T.I."
          ],
          [
           "BLACKSTREET"
          ],
          [
           "ROGER"
          ],
          [
           "LEE BRICE"
          ],
          [
           "WYCLEF JEAN"
          ],
          [
           "THE WHITE STRIPES"
          ],
          [
           "LIFEHOUSE"
          ],
          [
           "DESTINY'S CHILD"
          ],
          [
           "LOS ANGELES DE CHARLY"
          ],
          [
           "CRAIG DAVID"
          ],
          [
           "FABOLOUS"
          ],
          [
           "MIRANDA LAMBERT"
          ],
          [
           "Q-TIP"
          ],
          [
           "THE CHICKS"
          ],
          [
           "AKON"
          ],
          [
           "COLE SWINDELL"
          ],
          [
           "BEE GEES"
          ],
          [
           "KERI HILSON"
          ],
          [
           "T.A.T.U."
          ],
          [
           "ALEJANDRO SANZ"
          ],
          [
           "ROCKWELL"
          ],
          [
           "THE CRANBERRIES"
          ],
          [
           "CREEDENCE CLEARWATER REVIVAL"
          ],
          [
           "FRED HAMMOND"
          ],
          [
           "GEORGE BENSON"
          ],
          [
           "THE-DREAM"
          ],
          [
           "OUTKAST"
          ],
          [
           "MISSY ELLIOTT"
          ],
          [
           "DUFFY"
          ],
          [
           "TECH N9NE"
          ],
          [
           "KALEO"
          ],
          [
           "DIRE STRAITS"
          ],
          [
           "SNOW PATROL"
          ],
          [
           "JENNIFER HUDSON"
          ],
          [
           "FLEET FOXES"
          ],
          [
           "KEANE"
          ],
          [
           "CHRIS YOUNG"
          ],
          [
           "ELECTRIC LIGHT ORCHESTRA"
          ],
          [
           "LOUIS PRIMA"
          ],
          [
           "LYNYRD SKYNYRD"
          ],
          [
           "NE-YO"
          ],
          [
           "DARIUS RUCKER"
          ],
          [
           "JEREMIH"
          ],
          [
           "ALL TIME LOW"
          ],
          [
           "MADONNA"
          ],
          [
           "RED HOT CHILI PEPPERS"
          ],
          [
           "JUDY GARLAND"
          ],
          [
           "THE 1975"
          ],
          [
           "KENNY G"
          ],
          [
           "CLIPSE"
          ],
          [
           "THE XX"
          ],
          [
           "GABBY BARRETT"
          ],
          [
           "COLBIE CAILLAT"
          ],
          [
           "JASON ALDEAN"
          ],
          [
           "CARRIE UNDERWOOD"
          ],
          [
           "LUDACRIS"
          ],
          [
           "NAS"
          ],
          [
           "FOSTER THE PEOPLE"
          ],
          [
           "LOS TUCANES DE TIJUANA"
          ],
          [
           "A-HA"
          ],
          [
           "BELLY"
          ],
          [
           "MOBY"
          ],
          [
           "FOO FIGHTERS"
          ],
          [
           "JENNIFER LOPEZ"
          ],
          [
           "T-PAIN"
          ],
          [
           "KACEY MUSGRAVES"
          ],
          [
           "CHRISTINA PERRI"
          ],
          [
           "GEORGE MICHAEL"
          ],
          [
           "VAN MORRISON"
          ],
          [
           "AMY GRANT"
          ],
          [
           "DONNY HATHAWAY"
          ],
          [
           "RUSS"
          ],
          [
           "AC/DC"
          ],
          [
           "KEITH URBAN"
          ],
          [
           "AVRIL LAVIGNE"
          ],
          [
           "DREAMVILLE"
          ],
          [
           "SHANIA TWAIN"
          ],
          [
           "THE LUMINEERS"
          ],
          [
           "MY CHEMICAL ROMANCE"
          ],
          [
           "TRAIN"
          ],
          [
           "NIPSEY HUSSLE"
          ],
          [
           "DMX"
          ],
          [
           "ZAC BROWN BAND"
          ],
          [
           "ELLA FITZGERALD"
          ],
          [
           "ICE CUBE"
          ],
          [
           "VANESSA HUDGENS"
          ],
          [
           "AARON CARTER"
          ],
          [
           "KID INK"
          ],
          [
           "USHER"
          ],
          [
           "EARTH, WIND & FIRE"
          ],
          [
           "MARC ANTHONY"
          ],
          [
           "WALK THE MOON"
          ],
          [
           "GORILLAZ"
          ],
          [
           "EMPIRE OF THE SUN"
          ],
          [
           "THE NEPTUNES"
          ],
          [
           "VINCE GUARALDI TRIO"
          ],
          [
           "FLUME"
          ],
          [
           "GUNS N' ROSES"
          ],
          [
           "TINA TURNER"
          ],
          [
           "JAMES BAY"
          ],
          [
           "GHOSTFACE KILLAH"
          ],
          [
           "ASHANTI"
          ],
          [
           "U2"
          ],
          [
           "MILKY CHANCE"
          ],
          [
           "ANDY GRAMMER"
          ],
          [
           "THOMAS RHETT"
          ],
          [
           "THE GAME"
          ],
          [
           "LUPILLO RIVERA"
          ],
          [
           "PARAMORE"
          ],
          [
           "TONY BENNETT"
          ],
          [
           "STEVIE WONDER"
          ],
          [
           "KINGS OF LEON"
          ],
          [
           "M.I.A."
          ],
          [
           "THE BEACH BOYS"
          ],
          [
           "BRYAN ADAMS"
          ],
          [
           "PENTATONIX"
          ],
          [
           "METALLICA"
          ],
          [
           "BLAKE SHELTON"
          ],
          [
           "NELLY"
          ],
          [
           "GROUPLOVE"
          ],
          [
           "GWEN STEFANI"
          ],
          [
           "EAGLES"
          ],
          [
           "CONJUNTO PRIMAVERA"
          ],
          [
           "EVE"
          ],
          [
           "BRETT ELDREDGE"
          ],
          [
           "ALICIA KEYS"
          ],
          [
           "BOBBY SHMURDA"
          ],
          [
           "CHIEF KEEF"
          ],
          [
           "LEONA LEWIS"
          ],
          [
           "KEVIN GATES"
          ],
          [
           "GIPSY KINGS"
          ],
          [
           "NELLY FURTADO"
          ],
          [
           "JOHN WILLIAMS"
          ],
          [
           "BRING ME THE HORIZON"
          ],
          [
           "THE CARTERS"
          ],
          [
           "TEARS FOR FEARS"
          ],
          [
           "TOVE LO"
          ],
          [
           "ABBA"
          ],
          [
           "IDINA MENZEL"
          ],
          [
           "TIMBALAND"
          ],
          [
           "WILL SMITH"
          ],
          [
           "BRUCE SPRINGSTEEN"
          ],
          [
           "RAMMSTEIN"
          ],
          [
           "DIDO"
          ],
          [
           "CAGE THE ELEPHANT"
          ],
          [
           "KIDS SEE GHOSTS"
          ],
          [
           "TREY SONGZ"
          ],
          [
           "MGMT"
          ],
          [
           "CALBOY"
          ],
          [
           "DNCE"
          ],
          [
           "LUKE BRYAN"
          ],
          [
           "KYLIE MINOGUE"
          ],
          [
           "MAXWELL"
          ],
          [
           "SAGE THE GEMINI"
          ],
          [
           "ELLA MAI"
          ],
          [
           "GOTYE"
          ],
          [
           "CHUCK BERRY"
          ],
          [
           "BRITNEY SPEARS"
          ],
          [
           "FETTY WAP"
          ],
          [
           "SKI MASK THE SLUMP GOD"
          ],
          [
           "YO GOTTI"
          ],
          [
           "SCHOOLBOY Q"
          ],
          [
           "MEGHAN TRAINOR"
          ],
          [
           "BON IVER"
          ],
          [
           "SUMMER WALKER"
          ],
          [
           "G HERBO"
          ],
          [
           "PASSENGER"
          ],
          [
           "JAMES BLUNT"
          ],
          [
           "SHAGGY"
          ],
          [
           "ELVIS PRESLEY"
          ],
          [
           "H.E.R."
          ],
          [
           "ONE DIRECTION"
          ],
          [
           "JOURNEY"
          ],
          [
           "ROD WAVE"
          ],
          [
           "X AMBASSADORS"
          ],
          [
           "LORD HURON"
          ],
          [
           "MYA"
          ],
          [
           "PERRY COMO"
          ],
          [
           "JON BELLION"
          ],
          [
           "OZZY OSBOURNE"
          ],
          [
           "POOH SHIESTY"
          ],
          [
           "PNB ROCK"
          ],
          [
           "JOHN MAYER"
          ],
          [
           "KESHA"
          ],
          [
           "A$AP FERG"
          ],
          [
           "FIFTH HARMONY"
          ],
          [
           "RICKY MARTIN"
          ],
          [
           "BURL IVES"
          ],
          [
           "LIL SKIES"
          ],
          [
           "JAY-Z"
          ],
          [
           "DR. DRE"
          ],
          [
           "DAVID BOWIE"
          ],
          [
           "SAM HUNT"
          ],
          [
           "GYM CLASS HEROES"
          ],
          [
           "KELSEA BALLERINI"
          ],
          [
           "MELANIE MARTINEZ"
          ],
          [
           "MONEYBAGG YO"
          ],
          [
           "LUIS MIGUEL"
          ],
          [
           "MICHAEL JACKSON"
          ],
          [
           "LINKIN PARK"
          ],
          [
           "FALL OUT BOY"
          ],
          [
           "DON OMAR"
          ],
          [
           "DAYA"
          ],
          [
           "PITBULL"
          ],
          [
           "AJR"
          ],
          [
           "LUKE COMBS"
          ],
          [
           "JASON MRAZ"
          ],
          [
           "CHRIS REA"
          ],
          [
           "TOTO"
          ],
          [
           "MACKLEMORE & RYAN LEWIS"
          ],
          [
           "NAT KING COLE"
          ],
          [
           "COOLIO"
          ],
          [
           "JOHN LENNON"
          ],
          [
           "FAMOUS DEX"
          ],
          [
           "SNOOP DOGG"
          ],
          [
           "STEVE AOKI"
          ],
          [
           "MIGUEL"
          ],
          [
           "LIL DICKY"
          ],
          [
           "THE POLICE"
          ],
          [
           "LUKAS GRAHAM"
          ],
          [
           "CHRIS STAPLETON"
          ],
          [
           "KELLY CLARKSON"
          ],
          [
           "LANA DEL REY"
          ],
          [
           "DEAN MARTIN"
          ],
          [
           "BING CROSBY"
          ],
          [
           "YG"
          ],
          [
           "KANE BROWN"
          ],
          [
           "TAME IMPALA"
          ],
          [
           "LORDE"
          ],
          [
           "50 CENT"
          ],
          [
           "GEORGE EZRA"
          ],
          [
           "RICH THE KID"
          ],
          [
           "MAC MILLER"
          ],
          [
           "FRANK SINATRA"
          ],
          [
           "NLE CHOPPA"
          ],
          [
           "WHITNEY HOUSTON"
          ],
          [
           "WIZ KHALIFA"
          ],
          [
           "SHECK WES"
          ],
          [
           "2 CHAINZ"
          ],
          [
           "ANDY WILLIAMS"
          ],
          [
           "JUSTIN TIMBERLAKE"
          ],
          [
           "PORTUGAL. THE MAN"
          ],
          [
           "PARTYNEXTDOOR"
          ],
          [
           "ENRIQUE IGLESIAS"
          ],
          [
           "OASIS"
          ],
          [
           "KYLE"
          ],
          [
           "MARK RONSON"
          ],
          [
           "LIL PEEP"
          ],
          [
           "BRYSON TILLER"
          ],
          [
           "ALEC BENJAMIN"
          ],
          [
           "RAE SREMMURD"
          ],
          [
           "SKRILLEX"
          ],
          [
           "KEHLANI"
          ],
          [
           "HOZIER"
          ],
          [
           "JESS GLYNNE"
          ],
          [
           "NF"
          ],
          [
           "DAN + SHAY"
          ],
          [
           "PROJECT PAT"
          ],
          [
           "KATE BUSH"
          ],
          [
           "YOUNGBOY NEVER BROKE AGAIN"
          ],
          [
           "RICK ROSS"
          ],
          [
           "VANCE JOY"
          ],
          [
           "P!NK"
          ],
          [
           "MEEK MILL"
          ],
          [
           "RUTH B."
          ],
          [
           "FRANK OCEAN"
          ],
          [
           "NIALL HORAN"
          ],
          [
           "TWENTY ONE PILOTS"
          ],
          [
           "NIRVANA"
          ],
          [
           "SNOW"
          ],
          [
           "FLEETWOOD MAC"
          ],
          [
           "CHERISH"
          ],
          [
           "WHAM!"
          ],
          [
           "KID CUDI"
          ],
          [
           "THE KILLERS"
          ],
          [
           "YNW MELLY"
          ],
          [
           "TORY LANEZ"
          ],
          [
           "MAREN MORRIS"
          ],
          [
           "CHILDISH GAMBINO"
          ],
          [
           "PHARRELL WILLIAMS"
          ],
          [
           "6LACK"
          ],
          [
           "ELLIE GOULDING"
          ],
          [
           "MUSTARD"
          ],
          [
           "A$AP ROCKY"
          ],
          [
           "G-EAZY"
          ],
          [
           "PLAYBOI CARTI"
          ],
          [
           "JOJI"
          ],
          [
           "JOHN LEGEND"
          ],
          [
           "BILLY RAY CYRUS"
          ],
          [
           "DEAN LEWIS"
          ],
          [
           "ALAN WALKER"
          ],
          [
           "TYLER, THE CREATOR"
          ],
          [
           "MAJOR LAZER"
          ],
          [
           "MACHINE GUN KELLY"
          ],
          [
           "LIL TECCA"
          ],
          [
           "ZARA LARSSON"
          ],
          [
           "ARCTIC MONKEYS"
          ],
          [
           "BIG SEAN"
          ],
          [
           "MORGAN WALLEN"
          ],
          [
           "MARIAH CAREY"
          ],
          [
           "SEAN PAUL"
          ],
          [
           "LIL PUMP"
          ],
          [
           "LIL MOSEY"
          ],
          [
           "FLORIDA GEORGIA LINE"
          ],
          [
           "TROYE SIVAN"
          ],
          [
           "BAZZI"
          ],
          [
           "DIPLO"
          ],
          [
           "METRO BOOMIN"
          ],
          [
           "PANIC! AT THE DISCO"
          ],
          [
           "INTERNET MONEY"
          ],
          [
           "CONAN GRAY"
          ],
          [
           "DAFT PUNK"
          ],
          [
           "BASTILLE"
          ],
          [
           "TRIPPIE REDD"
          ],
          [
           "JONAS BLUE"
          ],
          [
           "LOGIC"
          ],
          [
           "RIHANNA"
          ],
          [
           "FRENCH MONTANA"
          ],
          [
           "LIZZO"
          ],
          [
           "A BOOGIE WIT DA HOODIE"
          ],
          [
           "NAV"
          ],
          [
           "GUCCI MANE"
          ],
          [
           "KATY PERRY"
          ],
          [
           "MACKLEMORE"
          ],
          [
           "LIL DURK"
          ],
          [
           "5 SECONDS OF SUMMER"
          ],
          [
           "BLACKBEAR"
          ],
          [
           "ALESSIA CARA"
          ],
          [
           "BENNY BLANCO"
          ],
          [
           "LIL TJAY"
          ],
          [
           "SHAKIRA"
          ],
          [
           "MILEY CYRUS"
          ],
          [
           "ONEREPUBLIC"
          ],
          [
           "ZAYN"
          ],
          [
           "JONAS BROTHERS"
          ],
          [
           "CHRIS BROWN"
          ],
          [
           "DON TOLIVER"
          ],
          [
           "6IX9INE"
          ],
          [
           "KODAK BLACK"
          ],
          [
           "CLEAN BANDIT"
          ],
          [
           "DJ SNAKE"
          ],
          [
           "LIL WAYNE"
          ],
          [
           "CHARLIE PUTH"
          ],
          [
           "TYGA"
          ],
          [
           "OFFSET"
          ],
          [
           "24KGOLDN"
          ],
          [
           "SIA"
          ],
          [
           "LAUV"
          ],
          [
           "BEBE REXHA"
          ],
          [
           "ELTON JOHN"
          ],
          [
           "DANIEL CAESAR"
          ],
          [
           "DJ KHALED"
          ],
          [
           "AVICII"
          ],
          [
           "DEMI LOVATO"
          ],
          [
           "THE NEIGHBOURHOOD"
          ],
          [
           "ANNE-MARIE"
          ],
          [
           "TY DOLLA $IGN"
          ],
          [
           "AVA MAX"
          ],
          [
           "KYGO"
          ],
          [
           "MIGOS"
          ],
          [
           "JASON DERULO"
          ],
          [
           "MEGAN THEE STALLION"
          ],
          [
           "TONES AND I"
          ],
          [
           "QUEEN"
          ],
          [
           "J. COLE"
          ],
          [
           "DAVID GUETTA"
          ],
          [
           "POLO G"
          ],
          [
           "GIVEON"
          ],
          [
           "KANYE WEST"
          ],
          [
           "LADY GAGA"
          ],
          [
           "GUNNA"
          ],
          [
           "POP SMOKE"
          ],
          [
           "CALVIN HARRIS"
          ],
          [
           "SAM SMITH"
          ],
          [
           "ADELE"
          ],
          [
           "LIL UZI VERT"
          ],
          [
           "COLDPLAY"
          ],
          [
           "QUAVO"
          ],
          [
           "NICKI MINAJ"
          ],
          [
           "RODDY RICCH"
          ],
          [
           "LIL BABY"
          ],
          [
           "FUTURE"
          ],
          [
           "EMINEM"
          ],
          [
           "MAROON 5"
          ],
          [
           "SZA"
          ],
          [
           "JACK HARLOW"
          ],
          [
           "BRUNO MARS"
          ],
          [
           "21 SAVAGE"
          ],
          [
           "YOUNG THUG"
          ],
          [
           "SELENA GOMEZ"
          ],
          [
           "THE CHAINSMOKERS"
          ],
          [
           "KENDRICK LAMAR"
          ],
          [
           "HALSEY"
          ],
          [
           "THE KID LAROI"
          ],
          [
           "SHAWN MENDES"
          ],
          [
           "TAYLOR SWIFT"
          ],
          [
           "IMAGINE DRAGONS"
          ],
          [
           "CARDI B"
          ],
          [
           "DABABY"
          ],
          [
           "CAMILA CABELLO"
          ],
          [
           "BTS"
          ],
          [
           "DADDY YANKEE"
          ],
          [
           "XXXTENTACION"
          ],
          [
           "HARRY STYLES"
          ],
          [
           "LIL NAS X"
          ],
          [
           "JUICE WRLD"
          ],
          [
           "TRAVIS SCOTT"
          ],
          [
           "KHALID"
          ],
          [
           "DOJA CAT"
          ],
          [
           "OLIVIA RODRIGO"
          ],
          [
           "BILLIE EILISH"
          ],
          [
           "ARIANA GRANDE"
          ],
          [
           "DUA LIPA"
          ],
          [
           "THE WEEKND"
          ],
          [
           "POST MALONE"
          ],
          [
           "JUSTIN BIEBER"
          ],
          [
           "ED SHEERAN"
          ],
          [
           "DRAKE"
          ]
         ],
         "hovertemplate": "streams=%{x}<br>Certified Units=%{y}<br>Artist=%{customdata[0]}<extra></extra>",
         "legendgroup": "",
         "marker": {
          "color": "#636efa",
          "symbol": "circle"
         },
         "mode": "markers",
         "name": "",
         "orientation": "v",
         "showlegend": false,
         "type": "scatter",
         "x": [
          4513,
          5988,
          17601,
          19176,
          24177,
          27647,
          31328,
          34069,
          34594,
          39442,
          40805,
          43671,
          47275,
          50073,
          61742,
          72363,
          72632,
          76587,
          76587,
          85430,
          87889,
          95983,
          106305,
          111469,
          123959,
          132481,
          140499,
          178480,
          187659,
          205802,
          209659,
          248746,
          250995,
          260746,
          284519,
          314863,
          320249,
          322478,
          337632,
          373704,
          417497,
          419105,
          424355,
          451877,
          505154,
          602650,
          691373,
          696855,
          704928,
          751073,
          787515,
          921974,
          1015947,
          1098346,
          1102834,
          1122627,
          1215414,
          1229587,
          1266115,
          1305162,
          1333739,
          1333739,
          1396863,
          1408024,
          1417561,
          1482489,
          1495563,
          1580311,
          1590246,
          1623835,
          1691709,
          1768868,
          1827881,
          1848285,
          1911206,
          1913853,
          1939940,
          2088507,
          2148502,
          2175469,
          2226167,
          2274487,
          2308131,
          2323271,
          2348501,
          2543957,
          2570135,
          2772542,
          2798281,
          2979430,
          3012158,
          3026361,
          3199084,
          3236589,
          3276681,
          3384245,
          3405376,
          3579101,
          3593955,
          3724467,
          3930110,
          3934056,
          4020862,
          4027932,
          4067764,
          4220954,
          4246942,
          4285515,
          4285515,
          4454211,
          4723733,
          4746650,
          4788730,
          4935420,
          5052724,
          5120047,
          5155594,
          5260776,
          5292179,
          5318885,
          5419891,
          5538611,
          5586362,
          5660671,
          5679813,
          5735823,
          5800155,
          5995116,
          6174930,
          6442072,
          6509471,
          6675677,
          6754873,
          7370075,
          7431201,
          7483639,
          7576318,
          7599432,
          7663336,
          7879596,
          7915781,
          8014910,
          8376700,
          8474418,
          8695060,
          9363501,
          9640297,
          9673566,
          9687715,
          10202587,
          10296805,
          10309492,
          10332606,
          10957985,
          11120597,
          11183853,
          11307146,
          11654728,
          11670961,
          11710341,
          11739156,
          11882940,
          11983327,
          12017649,
          13120341,
          13189493,
          13231090,
          13804830,
          13889105,
          15273141,
          15317236,
          15660376,
          15895745,
          16003745,
          17004943,
          17142419,
          18255002,
          19219703,
          19525675,
          19676488,
          19916542,
          19916542,
          20065204,
          21509452,
          21636669,
          21943055,
          21943055,
          22156013,
          22226914,
          22673898,
          22682451,
          22805949,
          23209381,
          24113760,
          24255668,
          24307104,
          24477135,
          24575989,
          25392115,
          25454181,
          25470437,
          27363504,
          28010361,
          28291811,
          31464936,
          31554300,
          31937402,
          32813294,
          33467386,
          33626503,
          33744583,
          33818655,
          33896799,
          34467762,
          36834933,
          37633363,
          37978612,
          38096165,
          39089078,
          39599460,
          39940685,
          40583076,
          40817134,
          40843191,
          40867696,
          41104716,
          42055737,
          42298851,
          42500369,
          42915238,
          43827549,
          44411156,
          44532154,
          44796469,
          46062109,
          46737558,
          47140536,
          47159717,
          48158783,
          48415776,
          50268536,
          50685340,
          52551860,
          53395583,
          55620238,
          55620399,
          56832547,
          58371035,
          61236873,
          61456376,
          62197830,
          62530874,
          62981462,
          64996469,
          65260870,
          65693930,
          66368485,
          66655918,
          66698503,
          66777522,
          67333195,
          68502381,
          68593452,
          71307405,
          72430337,
          73580282,
          73965116,
          74850550,
          75789278,
          76029726,
          76438700,
          76869085,
          81500212,
          87839447,
          88251277,
          89467130,
          90078808,
          92497327,
          93704380,
          95755543,
          96794068,
          97722900,
          101526039,
          106592323,
          115607789,
          116189090,
          120911307,
          127198640,
          127507783,
          129122312,
          131729314,
          131869344,
          132748864,
          132939607,
          134025051,
          134689484,
          149659537,
          153981264,
          156942104,
          161722723,
          163682616,
          171056413,
          173118664,
          178921517,
          181290530,
          182816520,
          184149229,
          186267715,
          188726426,
          203014840,
          204079754,
          205328388,
          211276690,
          212641233,
          216077670,
          223451721,
          225411345,
          230933012,
          236398493,
          236421819,
          241425207,
          243449001,
          244115642,
          247674263,
          250652668,
          251270737,
          251355277,
          252456192,
          254467241,
          256458441,
          258886900,
          261293627,
          261881456,
          283937263,
          285128686,
          286919972,
          292391494,
          292769358,
          307204230,
          312145196,
          315804600,
          316079755,
          317912103,
          322208432,
          325165120,
          327407285,
          334757283,
          353802862,
          353912605,
          361634643,
          361796890,
          364595548,
          364607636,
          366848849,
          367695251,
          386627801,
          388580300,
          390999646,
          393633887,
          398541071,
          418767776,
          418890540,
          420565456,
          421973130,
          425458170,
          434462239,
          435525443,
          447580444,
          452897972,
          459932268,
          461560206,
          501235301,
          501264035,
          503940750,
          508791219,
          515854601,
          521992311,
          535146678,
          538759980,
          545381862,
          568859724,
          569297973,
          587082817,
          587862578,
          590490960,
          610462020,
          612130037,
          614501603,
          618028600,
          619159117,
          626959573,
          631512307,
          668167401,
          670493016,
          693560305,
          704354222,
          714336335,
          741032800,
          753101105,
          760508770,
          773642129,
          777974755,
          780765217,
          790926239,
          792350790,
          802122945,
          807607752,
          828614177,
          835829096,
          856962176,
          861312843,
          893730754,
          895323889,
          898055321,
          912508805,
          928788185,
          941530141,
          964345144,
          980339079,
          991454646,
          1026419426,
          1035780117,
          1052762990,
          1056382588,
          1066103085,
          1074233921,
          1100170766,
          1124853076,
          1146810533,
          1164957170,
          1166463687,
          1168360042,
          1191440189,
          1200682400,
          1201943526,
          1209643673,
          1235182354,
          1241238664,
          1249033743,
          1256129044,
          1280025747,
          1292733478,
          1294427345,
          1308334404,
          1361084860,
          1363944112,
          1367474284,
          1382553227,
          1402360929,
          1403096539,
          1431395350,
          1480424836,
          1480634481,
          1484369340,
          1494321888,
          1524846851,
          1530602582,
          1553601252,
          1636105373,
          1657118073,
          1724447967,
          1732901500,
          1736529304,
          1740464327,
          1742934354,
          1786056218,
          1802067253,
          1866675393,
          1915671284,
          1919875792,
          1982353194,
          2045536088,
          2070055084,
          2075799682,
          2150863062,
          2173135488,
          2202175441,
          2224274372,
          2225080277,
          2238051064,
          2253994411,
          2264298802,
          2276420267,
          2372833154,
          2391626531,
          2404917698,
          2591659695,
          2633576213,
          2729923183,
          2760119695,
          2805629765,
          2823586219,
          2946165043,
          2950178285,
          3058134309,
          3064731663,
          3127618662,
          3207247385,
          3213040039,
          3380858792,
          3383384191,
          3386149367,
          3477866058,
          3560354020,
          3565818826,
          3654249741,
          3697087280,
          3697649508,
          3707257175,
          3896231849,
          4212612512,
          4292997182,
          4547070044,
          4585094144,
          4614260765,
          4768165548,
          4838089594,
          4855802437,
          4896033841,
          4995273295,
          5031030695,
          5087564358,
          5158751132,
          5545941750,
          5555371973,
          5578701546,
          5848372355,
          6653550141,
          6823350726,
          7189087867,
          7207917340,
          7306054355,
          7735053360,
          8045073065,
          8304292498,
          9124389514,
          9144252411,
          9296751611,
          10065463781,
          10111058383,
          10371941558,
          11828420666,
          12077930864,
          12405401601,
          14661412983,
          15458348124,
          17290105505,
          18276406224,
          18700501954,
          19843813784
         ],
         "xaxis": "x",
         "y": [
          7,
          2.5,
          5.5,
          0.5,
          0.5,
          1,
          0.5,
          75,
          4,
          2,
          24,
          0.5,
          9,
          1.5,
          0.5,
          3,
          1.5,
          0.5,
          1,
          0.5,
          13,
          1,
          28,
          10.5,
          2,
          1,
          9.5,
          6.5,
          18,
          3,
          1.5,
          2.5,
          5,
          10,
          20.5,
          0.5,
          0.5,
          0.5,
          23.5,
          0.5,
          11,
          0.5,
          6,
          16.5,
          21,
          0.5,
          1,
          18.5,
          6.5,
          13.5,
          3.5,
          5,
          9.5,
          7,
          5,
          2,
          23,
          7,
          47.5,
          1,
          4.5,
          6.5,
          84.5,
          0.5,
          21.5,
          25,
          1,
          0.5,
          3.5,
          1,
          4.5,
          1,
          0.5,
          0.5,
          0.5,
          15,
          38,
          0.5,
          2,
          0.5,
          1.5,
          4.5,
          2.5,
          1.5,
          0.5,
          9.5,
          34.5,
          1,
          2,
          1,
          0.5,
          2.5,
          1.5,
          10.5,
          1.5,
          0.5,
          1.5,
          1,
          0.5,
          1.5,
          0.5,
          1,
          1,
          10,
          0.5,
          16,
          15.5,
          0.5,
          0.5,
          183,
          21,
          0.5,
          1.5,
          9,
          2,
          43.5,
          6,
          8.5,
          1,
          0.5,
          0.5,
          1.5,
          6,
          7.5,
          49.5,
          0.5,
          37,
          2,
          0.5,
          2.5,
          2.5,
          4.5,
          7,
          5.5,
          1,
          2.5,
          3,
          2.5,
          3,
          18,
          0.5,
          1.5,
          3.5,
          8,
          0.5,
          33,
          4,
          1.5,
          28,
          0.5,
          0.5,
          0.5,
          0.5,
          14.5,
          28,
          3.5,
          8,
          1,
          22,
          6.5,
          0.5,
          0.5,
          0.5,
          15.5,
          1.5,
          1,
          0.5,
          1.5,
          3.5,
          11.5,
          0.5,
          28.5,
          4,
          2.5,
          2,
          1,
          64.5,
          25,
          0.5,
          1.5,
          48,
          0.5,
          0.5,
          0.5,
          2.5,
          12.5,
          21,
          12,
          12.5,
          2,
          0.5,
          1,
          0.5,
          2.5,
          7,
          11,
          1,
          2,
          1.5,
          15,
          10,
          17,
          0.5,
          1,
          75,
          14.5,
          13,
          1,
          48,
          4,
          6.5,
          7,
          1,
          14,
          10.5,
          0.5,
          8,
          0.5,
          4,
          0.5,
          22.5,
          23.5,
          5.5,
          1,
          3,
          0.5,
          0.5,
          4,
          0.5,
          44.5,
          10,
          1,
          1.5,
          5,
          51,
          0.5,
          0.5,
          4.5,
          2,
          0.5,
          6,
          9.5,
          19.5,
          2.5,
          0.5,
          22.5,
          17,
          4,
          63,
          11,
          22,
          0.5,
          6,
          120,
          2.5,
          3.5,
          1,
          20,
          0.5,
          0.5,
          1,
          4.5,
          2.5,
          3.5,
          4,
          0.5,
          0.5,
          8,
          1,
          10.5,
          0.5,
          1,
          12,
          65.5,
          1,
          6,
          2,
          0.5,
          4.5,
          0.5,
          0.5,
          0.5,
          13,
          1.5,
          5.5,
          0.5,
          1,
          2,
          0.5,
          34.5,
          2,
          0.5,
          1.5,
          1.5,
          4,
          2.5,
          1,
          0.5,
          1,
          3.5,
          7.5,
          139,
          1.5,
          12,
          49,
          2,
          1,
          0.5,
          2.5,
          2,
          0.5,
          29,
          0.5,
          0.5,
          17.5,
          5,
          1,
          2,
          10.5,
          0.5,
          1.5,
          27.5,
          9.5,
          9.5,
          4,
          0.5,
          1.5,
          2,
          1,
          4.5,
          85,
          28.5,
          6,
          1,
          0.5,
          6,
          0.5,
          5,
          5.5,
          0.5,
          7.5,
          1,
          12,
          3.5,
          10.5,
          0.5,
          12.5,
          0.5,
          2.5,
          0.5,
          22,
          1,
          5.5,
          12,
          2,
          9.5,
          6.5,
          2,
          3,
          1,
          3.5,
          15.5,
          0.5,
          1,
          3,
          27,
          1,
          60,
          4.5,
          0.5,
          2,
          10.5,
          10.5,
          0.5,
          1,
          8,
          6,
          1,
          1,
          1,
          3.5,
          0.5,
          2.5,
          2,
          1,
          3.5,
          0.5,
          2.5,
          2,
          0.5,
          0.5,
          5,
          2.5,
          1.5,
          18,
          3,
          0.5,
          1.5,
          1,
          7,
          28,
          1,
          54.5,
          0.5,
          7.5,
          3.5,
          4.5,
          1.5,
          0.5,
          1.5,
          1.5,
          0.5,
          1.5,
          3.5,
          1,
          3.5,
          3,
          1.5,
          1,
          4,
          10.5,
          0.5,
          0.5,
          2,
          0.5,
          1.5,
          1,
          1,
          1.5,
          4.5,
          2,
          66.5,
          3,
          1,
          0.5,
          4.5,
          0.5,
          1,
          0.5,
          1,
          8.5,
          0.5,
          0.5,
          2,
          1,
          2,
          0.5,
          4,
          23,
          2,
          1,
          4.5,
          2,
          1.5,
          11,
          0.5,
          0.5,
          0.5,
          1,
          1,
          1,
          1.5,
          7,
          5,
          2,
          1.5,
          3,
          14.5,
          0.5,
          1.5,
          3,
          1,
          1.5,
          21,
          2.5,
          2.5,
          0.5,
          0.5,
          1.5,
          0.5,
          1,
          79,
          0.5,
          3.5,
          1,
          4,
          1.5,
          1,
          1,
          0.5,
          0.5,
          3,
          3,
          2,
          0.5,
          43,
          8,
          1.5,
          2.5,
          0.5,
          24,
          17,
          1,
          2.5,
          3,
          6,
          28,
          4.5,
          14.5,
          0.5,
          8,
          2.5,
          5,
          7,
          46.5,
          13,
          2,
          0.5,
          16,
          2,
          2.5,
          1,
          4.5,
          7.5,
          4,
          0.5,
          4,
          46,
          5,
          3,
          3,
          2,
          2.5,
          1.5,
          6,
          3,
          1,
          1.5,
          5,
          5,
          0.5,
          1,
          5,
          9,
          2,
          12.5,
          13,
          21.5,
          11,
          25.5
         ],
         "yaxis": "y"
        }
       ],
       "layout": {
        "legend": {
         "tracegroupgap": 0
        },
        "template": {
         "data": {
          "bar": [
           {
            "error_x": {
             "color": "#2a3f5f"
            },
            "error_y": {
             "color": "#2a3f5f"
            },
            "marker": {
             "line": {
              "color": "#E5ECF6",
              "width": 0.5
             },
             "pattern": {
              "fillmode": "overlay",
              "size": 10,
              "solidity": 0.2
             }
            },
            "type": "bar"
           }
          ],
          "barpolar": [
           {
            "marker": {
             "line": {
              "color": "#E5ECF6",
              "width": 0.5
             },
             "pattern": {
              "fillmode": "overlay",
              "size": 10,
              "solidity": 0.2
             }
            },
            "type": "barpolar"
           }
          ],
          "carpet": [
           {
            "aaxis": {
             "endlinecolor": "#2a3f5f",
             "gridcolor": "white",
             "linecolor": "white",
             "minorgridcolor": "white",
             "startlinecolor": "#2a3f5f"
            },
            "baxis": {
             "endlinecolor": "#2a3f5f",
             "gridcolor": "white",
             "linecolor": "white",
             "minorgridcolor": "white",
             "startlinecolor": "#2a3f5f"
            },
            "type": "carpet"
           }
          ],
          "choropleth": [
           {
            "colorbar": {
             "outlinewidth": 0,
             "ticks": ""
            },
            "type": "choropleth"
           }
          ],
          "contour": [
           {
            "colorbar": {
             "outlinewidth": 0,
             "ticks": ""
            },
            "colorscale": [
             [
              0,
              "#0d0887"
             ],
             [
              0.1111111111111111,
              "#46039f"
             ],
             [
              0.2222222222222222,
              "#7201a8"
             ],
             [
              0.3333333333333333,
              "#9c179e"
             ],
             [
              0.4444444444444444,
              "#bd3786"
             ],
             [
              0.5555555555555556,
              "#d8576b"
             ],
             [
              0.6666666666666666,
              "#ed7953"
             ],
             [
              0.7777777777777778,
              "#fb9f3a"
             ],
             [
              0.8888888888888888,
              "#fdca26"
             ],
             [
              1,
              "#f0f921"
             ]
            ],
            "type": "contour"
           }
          ],
          "contourcarpet": [
           {
            "colorbar": {
             "outlinewidth": 0,
             "ticks": ""
            },
            "type": "contourcarpet"
           }
          ],
          "heatmap": [
           {
            "colorbar": {
             "outlinewidth": 0,
             "ticks": ""
            },
            "colorscale": [
             [
              0,
              "#0d0887"
             ],
             [
              0.1111111111111111,
              "#46039f"
             ],
             [
              0.2222222222222222,
              "#7201a8"
             ],
             [
              0.3333333333333333,
              "#9c179e"
             ],
             [
              0.4444444444444444,
              "#bd3786"
             ],
             [
              0.5555555555555556,
              "#d8576b"
             ],
             [
              0.6666666666666666,
              "#ed7953"
             ],
             [
              0.7777777777777778,
              "#fb9f3a"
             ],
             [
              0.8888888888888888,
              "#fdca26"
             ],
             [
              1,
              "#f0f921"
             ]
            ],
            "type": "heatmap"
           }
          ],
          "heatmapgl": [
           {
            "colorbar": {
             "outlinewidth": 0,
             "ticks": ""
            },
            "colorscale": [
             [
              0,
              "#0d0887"
             ],
             [
              0.1111111111111111,
              "#46039f"
             ],
             [
              0.2222222222222222,
              "#7201a8"
             ],
             [
              0.3333333333333333,
              "#9c179e"
             ],
             [
              0.4444444444444444,
              "#bd3786"
             ],
             [
              0.5555555555555556,
              "#d8576b"
             ],
             [
              0.6666666666666666,
              "#ed7953"
             ],
             [
              0.7777777777777778,
              "#fb9f3a"
             ],
             [
              0.8888888888888888,
              "#fdca26"
             ],
             [
              1,
              "#f0f921"
             ]
            ],
            "type": "heatmapgl"
           }
          ],
          "histogram": [
           {
            "marker": {
             "pattern": {
              "fillmode": "overlay",
              "size": 10,
              "solidity": 0.2
             }
            },
            "type": "histogram"
           }
          ],
          "histogram2d": [
           {
            "colorbar": {
             "outlinewidth": 0,
             "ticks": ""
            },
            "colorscale": [
             [
              0,
              "#0d0887"
             ],
             [
              0.1111111111111111,
              "#46039f"
             ],
             [
              0.2222222222222222,
              "#7201a8"
             ],
             [
              0.3333333333333333,
              "#9c179e"
             ],
             [
              0.4444444444444444,
              "#bd3786"
             ],
             [
              0.5555555555555556,
              "#d8576b"
             ],
             [
              0.6666666666666666,
              "#ed7953"
             ],
             [
              0.7777777777777778,
              "#fb9f3a"
             ],
             [
              0.8888888888888888,
              "#fdca26"
             ],
             [
              1,
              "#f0f921"
             ]
            ],
            "type": "histogram2d"
           }
          ],
          "histogram2dcontour": [
           {
            "colorbar": {
             "outlinewidth": 0,
             "ticks": ""
            },
            "colorscale": [
             [
              0,
              "#0d0887"
             ],
             [
              0.1111111111111111,
              "#46039f"
             ],
             [
              0.2222222222222222,
              "#7201a8"
             ],
             [
              0.3333333333333333,
              "#9c179e"
             ],
             [
              0.4444444444444444,
              "#bd3786"
             ],
             [
              0.5555555555555556,
              "#d8576b"
             ],
             [
              0.6666666666666666,
              "#ed7953"
             ],
             [
              0.7777777777777778,
              "#fb9f3a"
             ],
             [
              0.8888888888888888,
              "#fdca26"
             ],
             [
              1,
              "#f0f921"
             ]
            ],
            "type": "histogram2dcontour"
           }
          ],
          "mesh3d": [
           {
            "colorbar": {
             "outlinewidth": 0,
             "ticks": ""
            },
            "type": "mesh3d"
           }
          ],
          "parcoords": [
           {
            "line": {
             "colorbar": {
              "outlinewidth": 0,
              "ticks": ""
             }
            },
            "type": "parcoords"
           }
          ],
          "pie": [
           {
            "automargin": true,
            "type": "pie"
           }
          ],
          "scatter": [
           {
            "fillpattern": {
             "fillmode": "overlay",
             "size": 10,
             "solidity": 0.2
            },
            "type": "scatter"
           }
          ],
          "scatter3d": [
           {
            "line": {
             "colorbar": {
              "outlinewidth": 0,
              "ticks": ""
             }
            },
            "marker": {
             "colorbar": {
              "outlinewidth": 0,
              "ticks": ""
             }
            },
            "type": "scatter3d"
           }
          ],
          "scattercarpet": [
           {
            "marker": {
             "colorbar": {
              "outlinewidth": 0,
              "ticks": ""
             }
            },
            "type": "scattercarpet"
           }
          ],
          "scattergeo": [
           {
            "marker": {
             "colorbar": {
              "outlinewidth": 0,
              "ticks": ""
             }
            },
            "type": "scattergeo"
           }
          ],
          "scattergl": [
           {
            "marker": {
             "colorbar": {
              "outlinewidth": 0,
              "ticks": ""
             }
            },
            "type": "scattergl"
           }
          ],
          "scattermapbox": [
           {
            "marker": {
             "colorbar": {
              "outlinewidth": 0,
              "ticks": ""
             }
            },
            "type": "scattermapbox"
           }
          ],
          "scatterpolar": [
           {
            "marker": {
             "colorbar": {
              "outlinewidth": 0,
              "ticks": ""
             }
            },
            "type": "scatterpolar"
           }
          ],
          "scatterpolargl": [
           {
            "marker": {
             "colorbar": {
              "outlinewidth": 0,
              "ticks": ""
             }
            },
            "type": "scatterpolargl"
           }
          ],
          "scatterternary": [
           {
            "marker": {
             "colorbar": {
              "outlinewidth": 0,
              "ticks": ""
             }
            },
            "type": "scatterternary"
           }
          ],
          "surface": [
           {
            "colorbar": {
             "outlinewidth": 0,
             "ticks": ""
            },
            "colorscale": [
             [
              0,
              "#0d0887"
             ],
             [
              0.1111111111111111,
              "#46039f"
             ],
             [
              0.2222222222222222,
              "#7201a8"
             ],
             [
              0.3333333333333333,
              "#9c179e"
             ],
             [
              0.4444444444444444,
              "#bd3786"
             ],
             [
              0.5555555555555556,
              "#d8576b"
             ],
             [
              0.6666666666666666,
              "#ed7953"
             ],
             [
              0.7777777777777778,
              "#fb9f3a"
             ],
             [
              0.8888888888888888,
              "#fdca26"
             ],
             [
              1,
              "#f0f921"
             ]
            ],
            "type": "surface"
           }
          ],
          "table": [
           {
            "cells": {
             "fill": {
              "color": "#EBF0F8"
             },
             "line": {
              "color": "white"
             }
            },
            "header": {
             "fill": {
              "color": "#C8D4E3"
             },
             "line": {
              "color": "white"
             }
            },
            "type": "table"
           }
          ]
         },
         "layout": {
          "annotationdefaults": {
           "arrowcolor": "#2a3f5f",
           "arrowhead": 0,
           "arrowwidth": 1
          },
          "autotypenumbers": "strict",
          "coloraxis": {
           "colorbar": {
            "outlinewidth": 0,
            "ticks": ""
           }
          },
          "colorscale": {
           "diverging": [
            [
             0,
             "#8e0152"
            ],
            [
             0.1,
             "#c51b7d"
            ],
            [
             0.2,
             "#de77ae"
            ],
            [
             0.3,
             "#f1b6da"
            ],
            [
             0.4,
             "#fde0ef"
            ],
            [
             0.5,
             "#f7f7f7"
            ],
            [
             0.6,
             "#e6f5d0"
            ],
            [
             0.7,
             "#b8e186"
            ],
            [
             0.8,
             "#7fbc41"
            ],
            [
             0.9,
             "#4d9221"
            ],
            [
             1,
             "#276419"
            ]
           ],
           "sequential": [
            [
             0,
             "#0d0887"
            ],
            [
             0.1111111111111111,
             "#46039f"
            ],
            [
             0.2222222222222222,
             "#7201a8"
            ],
            [
             0.3333333333333333,
             "#9c179e"
            ],
            [
             0.4444444444444444,
             "#bd3786"
            ],
            [
             0.5555555555555556,
             "#d8576b"
            ],
            [
             0.6666666666666666,
             "#ed7953"
            ],
            [
             0.7777777777777778,
             "#fb9f3a"
            ],
            [
             0.8888888888888888,
             "#fdca26"
            ],
            [
             1,
             "#f0f921"
            ]
           ],
           "sequentialminus": [
            [
             0,
             "#0d0887"
            ],
            [
             0.1111111111111111,
             "#46039f"
            ],
            [
             0.2222222222222222,
             "#7201a8"
            ],
            [
             0.3333333333333333,
             "#9c179e"
            ],
            [
             0.4444444444444444,
             "#bd3786"
            ],
            [
             0.5555555555555556,
             "#d8576b"
            ],
            [
             0.6666666666666666,
             "#ed7953"
            ],
            [
             0.7777777777777778,
             "#fb9f3a"
            ],
            [
             0.8888888888888888,
             "#fdca26"
            ],
            [
             1,
             "#f0f921"
            ]
           ]
          },
          "colorway": [
           "#636efa",
           "#EF553B",
           "#00cc96",
           "#ab63fa",
           "#FFA15A",
           "#19d3f3",
           "#FF6692",
           "#B6E880",
           "#FF97FF",
           "#FECB52"
          ],
          "font": {
           "color": "#2a3f5f"
          },
          "geo": {
           "bgcolor": "white",
           "lakecolor": "white",
           "landcolor": "#E5ECF6",
           "showlakes": true,
           "showland": true,
           "subunitcolor": "white"
          },
          "hoverlabel": {
           "align": "left"
          },
          "hovermode": "closest",
          "mapbox": {
           "style": "light"
          },
          "paper_bgcolor": "white",
          "plot_bgcolor": "#E5ECF6",
          "polar": {
           "angularaxis": {
            "gridcolor": "white",
            "linecolor": "white",
            "ticks": ""
           },
           "bgcolor": "#E5ECF6",
           "radialaxis": {
            "gridcolor": "white",
            "linecolor": "white",
            "ticks": ""
           }
          },
          "scene": {
           "xaxis": {
            "backgroundcolor": "#E5ECF6",
            "gridcolor": "white",
            "gridwidth": 2,
            "linecolor": "white",
            "showbackground": true,
            "ticks": "",
            "zerolinecolor": "white"
           },
           "yaxis": {
            "backgroundcolor": "#E5ECF6",
            "gridcolor": "white",
            "gridwidth": 2,
            "linecolor": "white",
            "showbackground": true,
            "ticks": "",
            "zerolinecolor": "white"
           },
           "zaxis": {
            "backgroundcolor": "#E5ECF6",
            "gridcolor": "white",
            "gridwidth": 2,
            "linecolor": "white",
            "showbackground": true,
            "ticks": "",
            "zerolinecolor": "white"
           }
          },
          "shapedefaults": {
           "line": {
            "color": "#2a3f5f"
           }
          },
          "ternary": {
           "aaxis": {
            "gridcolor": "white",
            "linecolor": "white",
            "ticks": ""
           },
           "baxis": {
            "gridcolor": "white",
            "linecolor": "white",
            "ticks": ""
           },
           "bgcolor": "#E5ECF6",
           "caxis": {
            "gridcolor": "white",
            "linecolor": "white",
            "ticks": ""
           }
          },
          "title": {
           "x": 0.05
          },
          "xaxis": {
           "automargin": true,
           "gridcolor": "white",
           "linecolor": "white",
           "ticks": "",
           "title": {
            "standoff": 15
           },
           "zerolinecolor": "white",
           "zerolinewidth": 2
          },
          "yaxis": {
           "automargin": true,
           "gridcolor": "white",
           "linecolor": "white",
           "ticks": "",
           "title": {
            "standoff": 15
           },
           "zerolinecolor": "white",
           "zerolinewidth": 2
          }
         }
        },
        "title": {
         "text": "Album sales and streams per artist"
        },
        "xaxis": {
         "anchor": "y",
         "domain": [
          0,
          1
         ],
         "title": {
          "text": "streams"
         }
        },
        "yaxis": {
         "anchor": "x",
         "domain": [
          0,
          1
         ],
         "title": {
          "text": "Certified Units"
         }
        }
       }
      }
     },
     "metadata": {},
     "output_type": "display_data"
    },
    {
     "name": "stdout",
     "output_type": "stream",
     "text": [
      "-0.011337900102258502\n"
     ]
    }
   ],
   "source": [
    "streams = pd.read_csv('../dataset/streams_p_artists.csv')\n",
    "streams = streams.rename(columns={'artist_individual': 'Artist'})\n",
    "streams['Artist'] = streams['Artist'].str.upper()\n",
    "album_sales = pd.read_csv('../cleaned/riaakaggle.csv')\n",
    "\n",
    "df = pd.merge(streams, album_sales, on='Artist')\n",
    "px.scatter(df, x='streams', y='Certified Units', hover_data='Artist', title='Album sales and streams per artist').show()\n",
    "print(df['streams'].corr(df['Certified Units']))"
   ]
  }
 ],
 "metadata": {
  "kernelspec": {
   "display_name": "jupyterbook",
   "language": "python",
   "name": "python3"
  },
  "language_info": {
   "codemirror_mode": {
    "name": "ipython",
    "version": 3
   },
   "file_extension": ".py",
   "mimetype": "text/x-python",
   "name": "python",
   "nbconvert_exporter": "python",
   "pygments_lexer": "ipython3",
   "version": "3.10.6"
  },
  "orig_nbformat": 4
 },
 "nbformat": 4,
 "nbformat_minor": 2
}
