{
 "cells": [
  {
   "attachments": {},
   "cell_type": "markdown",
   "metadata": {},
   "source": [
    "First we need to import the modules"
   ]
  },
  {
   "cell_type": "code",
   "execution_count": 2,
   "metadata": {},
   "outputs": [],
   "source": [
    "import plotly.graph_objs as go\n",
    "import plotly.express as px\n",
    "import pandas as pd"
   ]
  },
  {
   "attachments": {},
   "cell_type": "markdown",
   "metadata": {},
   "source": [
    "Than we can plot the graphs:"
   ]
  },
  {
   "cell_type": "code",
   "execution_count": 16,
   "metadata": {},
   "outputs": [
    {
     "name": "stderr",
     "output_type": "stream",
     "text": [
      "/tmp/ipykernel_4185/2837433616.py:1: DtypeWarning: Columns (1,5,6,7,8) have mixed types. Specify dtype option on import or set low_memory=False.\n",
      "  df = pd.read_csv('../cleaned/final.csv')\n"
     ]
    },
    {
     "name": "stdout",
     "output_type": "stream",
     "text": [
      "      artist_individual      streams\n",
      "0          #TocoParaVos    4447121.0\n",
      "1          $HOR1 WINBOY     192884.0\n",
      "2                  $NOT  221563077.0\n",
      "3             $OHO BANI    9445237.0\n",
      "4                $hirak   83719234.0\n",
      "...                 ...          ...\n",
      "15039            黃于恩 溫妮      83065.0\n",
      "15040              黃祝賢儒     428734.0\n",
      "15041               黃禮格    1473007.0\n",
      "15042               黄霄雲    5904315.0\n",
      "15043               고은아     116790.0\n",
      "\n",
      "[15044 rows x 2 columns]\n"
     ]
    }
   ],
   "source": [
    "df = pd.read_csv('../cleaned/final.csv')\n",
    "\n",
    "df['streams'] = pd.to_numeric(df['streams'], errors='coerce')\n",
    "total_streams = df.groupby('artist_individual')['streams'].sum().reset_index()\n",
    "\n",
    "total_streams.groupby('streams')\n",
    "\n",
    "print(total_streams)"
   ]
  }
 ],
 "metadata": {
  "kernelspec": {
   "display_name": "jupyterbook",
   "language": "python",
   "name": "python3"
  },
  "language_info": {
   "codemirror_mode": {
    "name": "ipython",
    "version": 3
   },
   "file_extension": ".py",
   "mimetype": "text/x-python",
   "name": "python",
   "nbconvert_exporter": "python",
   "pygments_lexer": "ipython3",
   "version": "3.11.3"
  },
  "orig_nbformat": 4
 },
 "nbformat": 4,
 "nbformat_minor": 2
}
