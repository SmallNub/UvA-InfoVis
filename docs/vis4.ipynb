{
 "cells": [
  {
   "attachments": {},
   "cell_type": "markdown",
   "metadata": {},
   "source": [
    "# Visual 4"
   ]
  },
  {
   "attachments": {},
   "cell_type": "markdown",
   "metadata": {},
   "source": [
    "- Importeer libaries\n",
    "- Kies Top 25 artiesten uit csv\n",
    "- Maak grafiek"
   ]
  },
  {
   "cell_type": "code",
   "execution_count": 1,
   "metadata": {},
   "outputs": [],
   "source": [
    "import plotly.graph_objs as go\n",
    "import plotly.express as px\n",
    "import pandas as pd"
   ]
  },
  {
   "cell_type": "code",
   "execution_count": null,
   "metadata": {},
   "outputs": [],
   "source": [
    "# Read the dataset into a pandas DataFrame\n",
    "df = pd.read_csv('riaakaggle.csv')\n",
    "df = df.head(n=25)\n",
    "\n",
    "line = dict(color='black', width=0.4)\n",
    "\n",
    "# Create the data for each bar\n",
    "data = [\n",
    "    go.Bar(name='Certified (Million albums sold)', x=df['Artist'], y=df['Certified Units'], marker=dict(color='rgb(102,194,165)', line=line)),\n",
    "    go.Bar(name='Gold (units)', x=df['Artist'], y=df['Gold'], marker=dict(color='rgb(245, 242, 76)', line=line)),\n",
    "    go.Bar(name='Platinum (untis)', x=df['Artist'], y=df['Platinum'], marker=dict(color='rgb(160, 178, 198)', line=line)),\n",
    "    go.Bar(name='Multi-Platinum (units)', x=df['Artist'], y=df['Multi-Platinum'], marker=dict(color='rgb(148, 148, 143)', line=line)),\n",
    "    go.Bar(name='Diamond (units)', x=df['Artist'], y=df['Diamond'], marker=dict(color='rgb(160,225,245)', line=line))\n",
    "]\n",
    "\n",
    "# Set the layout options\n",
    "layout = go.Layout(\n",
    "    title='Top 25 Music Artists - Certification Levels',\n",
    "    height=800,\n",
    "    xaxis=go.layout.XAxis(\n",
    "        type='category',  # the type for the x-axis is categorical\n",
    "        title='Artist',\n",
    "        tickangle=45,     # rotate x-axis labels by 45 degrees\n",
    "        tickfont=dict(size=10)\n",
    "    ),\n",
    "    yaxis=go.layout.YAxis(\n",
    "        title='Units'\n",
    "    ),\n",
    "    barmode='group',  # set the bars to be grouped\n",
    ")\n",
    "\n",
    "\n",
    "# Create the figure and plot\n",
    "fig = go.Figure(data=data, layout=layout)\n",
    "fig.show()\n",
    "\n"
   ]
  }
 ],
 "metadata": {
  "kernelspec": {
   "display_name": "jupyterbook",
   "language": "python",
   "name": "python3"
  },
  "language_info": {
   "codemirror_mode": {
    "name": "ipython",
    "version": 3
   },
   "file_extension": ".py",
   "mimetype": "text/x-python",
   "name": "python",
   "nbconvert_exporter": "python",
   "pygments_lexer": "ipython3",
   "version": "3.10.6"
  },
  "orig_nbformat": 4
 },
 "nbformat": 4,
 "nbformat_minor": 2
}
