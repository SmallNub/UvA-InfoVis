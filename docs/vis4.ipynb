{
 "cells": [
  {
   "attachments": {},
   "cell_type": "markdown",
   "metadata": {},
   "source": [
    "# Certifications"
   ]
  },
  {
   "attachments": {},
   "cell_type": "markdown",
   "metadata": {},
   "source": [
    "We used [RIAA Artists By Certified Album Units Sold](https://www.kaggle.com/datasets/darinhawley/riaa-artists-by-certified-units-sold) to see the certification levels (Gold, Platinum, Multi-Platinum, and Diamond) and certified album sales for the top 25 music artists (based on album sales).\n",
    "\n",
    "Here we can see that The Beatles have the most amount of album sales."
   ]
  },
  {
   "cell_type": "code",
   "execution_count": 14,
   "metadata": {
    "tags": [
     "hide-input"
    ]
   },
   "outputs": [
    {
     "data": {
      "application/vnd.plotly.v1+json": {
       "config": {
        "plotlyServerURL": "https://plot.ly"
       },
       "data": [
        {
         "marker": {
          "color": "rgb(102,194,165)",
          "line": {
           "color": "black",
           "width": 0.4
          }
         },
         "name": "Certified (Million albums sold)",
         "type": "bar",
         "x": [
          "THE BEATLES",
          "GARTH BROOKS",
          "ELVIS PRESLEY",
          "EAGLES",
          "LED ZEPPELIN",
          "MICHAEL JACKSON",
          "BILLY JOEL",
          "ELTON JOHN",
          "AC/DC",
          "PINK FLOYD",
          "GEORGE STRAIT",
          "BARBRA STREISAND",
          "AEROSMITH",
          "MARIAH CAREY",
          "THE ROLLING STONES",
          "BRUCE SPRINGSTEEN",
          "MADONNA",
          "METALLICA",
          "WHITNEY HOUSTON",
          "VAN HALEN",
          "FLEETWOOD MAC",
          "CELINE DION",
          "U2",
          "NEIL DIAMOND",
          "JOURNEY"
         ],
         "y": [
          183,
          157,
          139,
          120,
          111.5,
          85,
          84.5,
          79,
          75,
          75,
          69,
          68.5,
          66.5,
          66.5,
          66.5,
          65.5,
          64.5,
          63,
          60,
          56.5,
          54.5,
          51,
          51,
          49.5,
          49
         ]
        },
        {
         "marker": {
          "color": "rgb(245, 242, 76)",
          "line": {
           "color": "black",
           "width": 0.4
          }
         },
         "name": "Gold (units)",
         "type": "bar",
         "x": [
          "THE BEATLES",
          "GARTH BROOKS",
          "ELVIS PRESLEY",
          "EAGLES",
          "LED ZEPPELIN",
          "MICHAEL JACKSON",
          "BILLY JOEL",
          "ELTON JOHN",
          "AC/DC",
          "PINK FLOYD",
          "GEORGE STRAIT",
          "BARBRA STREISAND",
          "AEROSMITH",
          "MARIAH CAREY",
          "THE ROLLING STONES",
          "BRUCE SPRINGSTEEN",
          "MADONNA",
          "METALLICA",
          "WHITNEY HOUSTON",
          "VAN HALEN",
          "FLEETWOOD MAC",
          "CELINE DION",
          "U2",
          "NEIL DIAMOND",
          "JOURNEY"
         ],
         "y": [
          48,
          31,
          101,
          13,
          19,
          15,
          18,
          38,
          22,
          19,
          39,
          51,
          25,
          16,
          43,
          22,
          20,
          13,
          11,
          14,
          14,
          13,
          16,
          40,
          13
         ]
        },
        {
         "marker": {
          "color": "rgb(160, 178, 198)",
          "line": {
           "color": "black",
           "width": 0.4
          }
         },
         "name": "Platinum (units)",
         "type": "bar",
         "x": [
          "THE BEATLES",
          "GARTH BROOKS",
          "ELVIS PRESLEY",
          "EAGLES",
          "LED ZEPPELIN",
          "MICHAEL JACKSON",
          "BILLY JOEL",
          "ELTON JOHN",
          "AC/DC",
          "PINK FLOYD",
          "GEORGE STRAIT",
          "BARBRA STREISAND",
          "AEROSMITH",
          "MARIAH CAREY",
          "THE ROLLING STONES",
          "BRUCE SPRINGSTEEN",
          "MADONNA",
          "METALLICA",
          "WHITNEY HOUSTON",
          "VAN HALEN",
          "FLEETWOOD MAC",
          "CELINE DION",
          "U2",
          "NEIL DIAMOND",
          "JOURNEY"
         ],
         "y": [
          42,
          31,
          57,
          13,
          18,
          13,
          17,
          28,
          20,
          15,
          33,
          30,
          18,
          13,
          28,
          17,
          17,
          13,
          9,
          13,
          9,
          11,
          16,
          21,
          11
         ]
        },
        {
         "marker": {
          "color": "rgb(148, 148, 143)",
          "line": {
           "color": "black",
           "width": 0.4
          }
         },
         "name": "Multi-Platinum (units)",
         "type": "bar",
         "x": [
          "THE BEATLES",
          "GARTH BROOKS",
          "ELVIS PRESLEY",
          "EAGLES",
          "LED ZEPPELIN",
          "MICHAEL JACKSON",
          "BILLY JOEL",
          "ELTON JOHN",
          "AC/DC",
          "PINK FLOYD",
          "GEORGE STRAIT",
          "BARBRA STREISAND",
          "AEROSMITH",
          "MARIAH CAREY",
          "THE ROLLING STONES",
          "BRUCE SPRINGSTEEN",
          "MADONNA",
          "METALLICA",
          "WHITNEY HOUSTON",
          "VAN HALEN",
          "FLEETWOOD MAC",
          "CELINE DION",
          "U2",
          "NEIL DIAMOND",
          "JOURNEY"
         ],
         "y": [
          26,
          17,
          25,
          11,
          14,
          9,
          13,
          14,
          12,
          12,
          13,
          12,
          12,
          10,
          11,
          11,
          12,
          11,
          7,
          12,
          8,
          8,
          11,
          12,
          9
         ]
        },
        {
         "marker": {
          "color": "rgb(160,225,245)",
          "line": {
           "color": "black",
           "width": 0.4
          }
         },
         "name": "Diamond (units)",
         "type": "bar",
         "x": [
          "THE BEATLES",
          "GARTH BROOKS",
          "ELVIS PRESLEY",
          "EAGLES",
          "LED ZEPPELIN",
          "MICHAEL JACKSON",
          "BILLY JOEL",
          "ELTON JOHN",
          "AC/DC",
          "PINK FLOYD",
          "GEORGE STRAIT",
          "BARBRA STREISAND",
          "AEROSMITH",
          "MARIAH CAREY",
          "THE ROLLING STONES",
          "BRUCE SPRINGSTEEN",
          "MADONNA",
          "METALLICA",
          "WHITNEY HOUSTON",
          "VAN HALEN",
          "FLEETWOOD MAC",
          "CELINE DION",
          "U2",
          "NEIL DIAMOND",
          "JOURNEY"
         ],
         "y": [
          6,
          9,
          1,
          3,
          5,
          2,
          2,
          1,
          1,
          2,
          0,
          0,
          1,
          2,
          1,
          2,
          2,
          1,
          3,
          2,
          1,
          2,
          1,
          0,
          2
         ]
        }
       ],
       "layout": {
        "barmode": "group",
        "height": 600,
        "template": {
         "data": {
          "bar": [
           {
            "error_x": {
             "color": "#2a3f5f"
            },
            "error_y": {
             "color": "#2a3f5f"
            },
            "marker": {
             "line": {
              "color": "#E5ECF6",
              "width": 0.5
             },
             "pattern": {
              "fillmode": "overlay",
              "size": 10,
              "solidity": 0.2
             }
            },
            "type": "bar"
           }
          ],
          "barpolar": [
           {
            "marker": {
             "line": {
              "color": "#E5ECF6",
              "width": 0.5
             },
             "pattern": {
              "fillmode": "overlay",
              "size": 10,
              "solidity": 0.2
             }
            },
            "type": "barpolar"
           }
          ],
          "carpet": [
           {
            "aaxis": {
             "endlinecolor": "#2a3f5f",
             "gridcolor": "white",
             "linecolor": "white",
             "minorgridcolor": "white",
             "startlinecolor": "#2a3f5f"
            },
            "baxis": {
             "endlinecolor": "#2a3f5f",
             "gridcolor": "white",
             "linecolor": "white",
             "minorgridcolor": "white",
             "startlinecolor": "#2a3f5f"
            },
            "type": "carpet"
           }
          ],
          "choropleth": [
           {
            "colorbar": {
             "outlinewidth": 0,
             "ticks": ""
            },
            "type": "choropleth"
           }
          ],
          "contour": [
           {
            "colorbar": {
             "outlinewidth": 0,
             "ticks": ""
            },
            "colorscale": [
             [
              0,
              "#0d0887"
             ],
             [
              0.1111111111111111,
              "#46039f"
             ],
             [
              0.2222222222222222,
              "#7201a8"
             ],
             [
              0.3333333333333333,
              "#9c179e"
             ],
             [
              0.4444444444444444,
              "#bd3786"
             ],
             [
              0.5555555555555556,
              "#d8576b"
             ],
             [
              0.6666666666666666,
              "#ed7953"
             ],
             [
              0.7777777777777778,
              "#fb9f3a"
             ],
             [
              0.8888888888888888,
              "#fdca26"
             ],
             [
              1,
              "#f0f921"
             ]
            ],
            "type": "contour"
           }
          ],
          "contourcarpet": [
           {
            "colorbar": {
             "outlinewidth": 0,
             "ticks": ""
            },
            "type": "contourcarpet"
           }
          ],
          "heatmap": [
           {
            "colorbar": {
             "outlinewidth": 0,
             "ticks": ""
            },
            "colorscale": [
             [
              0,
              "#0d0887"
             ],
             [
              0.1111111111111111,
              "#46039f"
             ],
             [
              0.2222222222222222,
              "#7201a8"
             ],
             [
              0.3333333333333333,
              "#9c179e"
             ],
             [
              0.4444444444444444,
              "#bd3786"
             ],
             [
              0.5555555555555556,
              "#d8576b"
             ],
             [
              0.6666666666666666,
              "#ed7953"
             ],
             [
              0.7777777777777778,
              "#fb9f3a"
             ],
             [
              0.8888888888888888,
              "#fdca26"
             ],
             [
              1,
              "#f0f921"
             ]
            ],
            "type": "heatmap"
           }
          ],
          "heatmapgl": [
           {
            "colorbar": {
             "outlinewidth": 0,
             "ticks": ""
            },
            "colorscale": [
             [
              0,
              "#0d0887"
             ],
             [
              0.1111111111111111,
              "#46039f"
             ],
             [
              0.2222222222222222,
              "#7201a8"
             ],
             [
              0.3333333333333333,
              "#9c179e"
             ],
             [
              0.4444444444444444,
              "#bd3786"
             ],
             [
              0.5555555555555556,
              "#d8576b"
             ],
             [
              0.6666666666666666,
              "#ed7953"
             ],
             [
              0.7777777777777778,
              "#fb9f3a"
             ],
             [
              0.8888888888888888,
              "#fdca26"
             ],
             [
              1,
              "#f0f921"
             ]
            ],
            "type": "heatmapgl"
           }
          ],
          "histogram": [
           {
            "marker": {
             "pattern": {
              "fillmode": "overlay",
              "size": 10,
              "solidity": 0.2
             }
            },
            "type": "histogram"
           }
          ],
          "histogram2d": [
           {
            "colorbar": {
             "outlinewidth": 0,
             "ticks": ""
            },
            "colorscale": [
             [
              0,
              "#0d0887"
             ],
             [
              0.1111111111111111,
              "#46039f"
             ],
             [
              0.2222222222222222,
              "#7201a8"
             ],
             [
              0.3333333333333333,
              "#9c179e"
             ],
             [
              0.4444444444444444,
              "#bd3786"
             ],
             [
              0.5555555555555556,
              "#d8576b"
             ],
             [
              0.6666666666666666,
              "#ed7953"
             ],
             [
              0.7777777777777778,
              "#fb9f3a"
             ],
             [
              0.8888888888888888,
              "#fdca26"
             ],
             [
              1,
              "#f0f921"
             ]
            ],
            "type": "histogram2d"
           }
          ],
          "histogram2dcontour": [
           {
            "colorbar": {
             "outlinewidth": 0,
             "ticks": ""
            },
            "colorscale": [
             [
              0,
              "#0d0887"
             ],
             [
              0.1111111111111111,
              "#46039f"
             ],
             [
              0.2222222222222222,
              "#7201a8"
             ],
             [
              0.3333333333333333,
              "#9c179e"
             ],
             [
              0.4444444444444444,
              "#bd3786"
             ],
             [
              0.5555555555555556,
              "#d8576b"
             ],
             [
              0.6666666666666666,
              "#ed7953"
             ],
             [
              0.7777777777777778,
              "#fb9f3a"
             ],
             [
              0.8888888888888888,
              "#fdca26"
             ],
             [
              1,
              "#f0f921"
             ]
            ],
            "type": "histogram2dcontour"
           }
          ],
          "mesh3d": [
           {
            "colorbar": {
             "outlinewidth": 0,
             "ticks": ""
            },
            "type": "mesh3d"
           }
          ],
          "parcoords": [
           {
            "line": {
             "colorbar": {
              "outlinewidth": 0,
              "ticks": ""
             }
            },
            "type": "parcoords"
           }
          ],
          "pie": [
           {
            "automargin": true,
            "type": "pie"
           }
          ],
          "scatter": [
           {
            "fillpattern": {
             "fillmode": "overlay",
             "size": 10,
             "solidity": 0.2
            },
            "type": "scatter"
           }
          ],
          "scatter3d": [
           {
            "line": {
             "colorbar": {
              "outlinewidth": 0,
              "ticks": ""
             }
            },
            "marker": {
             "colorbar": {
              "outlinewidth": 0,
              "ticks": ""
             }
            },
            "type": "scatter3d"
           }
          ],
          "scattercarpet": [
           {
            "marker": {
             "colorbar": {
              "outlinewidth": 0,
              "ticks": ""
             }
            },
            "type": "scattercarpet"
           }
          ],
          "scattergeo": [
           {
            "marker": {
             "colorbar": {
              "outlinewidth": 0,
              "ticks": ""
             }
            },
            "type": "scattergeo"
           }
          ],
          "scattergl": [
           {
            "marker": {
             "colorbar": {
              "outlinewidth": 0,
              "ticks": ""
             }
            },
            "type": "scattergl"
           }
          ],
          "scattermapbox": [
           {
            "marker": {
             "colorbar": {
              "outlinewidth": 0,
              "ticks": ""
             }
            },
            "type": "scattermapbox"
           }
          ],
          "scatterpolar": [
           {
            "marker": {
             "colorbar": {
              "outlinewidth": 0,
              "ticks": ""
             }
            },
            "type": "scatterpolar"
           }
          ],
          "scatterpolargl": [
           {
            "marker": {
             "colorbar": {
              "outlinewidth": 0,
              "ticks": ""
             }
            },
            "type": "scatterpolargl"
           }
          ],
          "scatterternary": [
           {
            "marker": {
             "colorbar": {
              "outlinewidth": 0,
              "ticks": ""
             }
            },
            "type": "scatterternary"
           }
          ],
          "surface": [
           {
            "colorbar": {
             "outlinewidth": 0,
             "ticks": ""
            },
            "colorscale": [
             [
              0,
              "#0d0887"
             ],
             [
              0.1111111111111111,
              "#46039f"
             ],
             [
              0.2222222222222222,
              "#7201a8"
             ],
             [
              0.3333333333333333,
              "#9c179e"
             ],
             [
              0.4444444444444444,
              "#bd3786"
             ],
             [
              0.5555555555555556,
              "#d8576b"
             ],
             [
              0.6666666666666666,
              "#ed7953"
             ],
             [
              0.7777777777777778,
              "#fb9f3a"
             ],
             [
              0.8888888888888888,
              "#fdca26"
             ],
             [
              1,
              "#f0f921"
             ]
            ],
            "type": "surface"
           }
          ],
          "table": [
           {
            "cells": {
             "fill": {
              "color": "#EBF0F8"
             },
             "line": {
              "color": "white"
             }
            },
            "header": {
             "fill": {
              "color": "#C8D4E3"
             },
             "line": {
              "color": "white"
             }
            },
            "type": "table"
           }
          ]
         },
         "layout": {
          "annotationdefaults": {
           "arrowcolor": "#2a3f5f",
           "arrowhead": 0,
           "arrowwidth": 1
          },
          "autotypenumbers": "strict",
          "coloraxis": {
           "colorbar": {
            "outlinewidth": 0,
            "ticks": ""
           }
          },
          "colorscale": {
           "diverging": [
            [
             0,
             "#8e0152"
            ],
            [
             0.1,
             "#c51b7d"
            ],
            [
             0.2,
             "#de77ae"
            ],
            [
             0.3,
             "#f1b6da"
            ],
            [
             0.4,
             "#fde0ef"
            ],
            [
             0.5,
             "#f7f7f7"
            ],
            [
             0.6,
             "#e6f5d0"
            ],
            [
             0.7,
             "#b8e186"
            ],
            [
             0.8,
             "#7fbc41"
            ],
            [
             0.9,
             "#4d9221"
            ],
            [
             1,
             "#276419"
            ]
           ],
           "sequential": [
            [
             0,
             "#0d0887"
            ],
            [
             0.1111111111111111,
             "#46039f"
            ],
            [
             0.2222222222222222,
             "#7201a8"
            ],
            [
             0.3333333333333333,
             "#9c179e"
            ],
            [
             0.4444444444444444,
             "#bd3786"
            ],
            [
             0.5555555555555556,
             "#d8576b"
            ],
            [
             0.6666666666666666,
             "#ed7953"
            ],
            [
             0.7777777777777778,
             "#fb9f3a"
            ],
            [
             0.8888888888888888,
             "#fdca26"
            ],
            [
             1,
             "#f0f921"
            ]
           ],
           "sequentialminus": [
            [
             0,
             "#0d0887"
            ],
            [
             0.1111111111111111,
             "#46039f"
            ],
            [
             0.2222222222222222,
             "#7201a8"
            ],
            [
             0.3333333333333333,
             "#9c179e"
            ],
            [
             0.4444444444444444,
             "#bd3786"
            ],
            [
             0.5555555555555556,
             "#d8576b"
            ],
            [
             0.6666666666666666,
             "#ed7953"
            ],
            [
             0.7777777777777778,
             "#fb9f3a"
            ],
            [
             0.8888888888888888,
             "#fdca26"
            ],
            [
             1,
             "#f0f921"
            ]
           ]
          },
          "colorway": [
           "#636efa",
           "#EF553B",
           "#00cc96",
           "#ab63fa",
           "#FFA15A",
           "#19d3f3",
           "#FF6692",
           "#B6E880",
           "#FF97FF",
           "#FECB52"
          ],
          "font": {
           "color": "#2a3f5f"
          },
          "geo": {
           "bgcolor": "white",
           "lakecolor": "white",
           "landcolor": "#E5ECF6",
           "showlakes": true,
           "showland": true,
           "subunitcolor": "white"
          },
          "hoverlabel": {
           "align": "left"
          },
          "hovermode": "closest",
          "mapbox": {
           "style": "light"
          },
          "paper_bgcolor": "white",
          "plot_bgcolor": "#E5ECF6",
          "polar": {
           "angularaxis": {
            "gridcolor": "white",
            "linecolor": "white",
            "ticks": ""
           },
           "bgcolor": "#E5ECF6",
           "radialaxis": {
            "gridcolor": "white",
            "linecolor": "white",
            "ticks": ""
           }
          },
          "scene": {
           "xaxis": {
            "backgroundcolor": "#E5ECF6",
            "gridcolor": "white",
            "gridwidth": 2,
            "linecolor": "white",
            "showbackground": true,
            "ticks": "",
            "zerolinecolor": "white"
           },
           "yaxis": {
            "backgroundcolor": "#E5ECF6",
            "gridcolor": "white",
            "gridwidth": 2,
            "linecolor": "white",
            "showbackground": true,
            "ticks": "",
            "zerolinecolor": "white"
           },
           "zaxis": {
            "backgroundcolor": "#E5ECF6",
            "gridcolor": "white",
            "gridwidth": 2,
            "linecolor": "white",
            "showbackground": true,
            "ticks": "",
            "zerolinecolor": "white"
           }
          },
          "shapedefaults": {
           "line": {
            "color": "#2a3f5f"
           }
          },
          "ternary": {
           "aaxis": {
            "gridcolor": "white",
            "linecolor": "white",
            "ticks": ""
           },
           "baxis": {
            "gridcolor": "white",
            "linecolor": "white",
            "ticks": ""
           },
           "bgcolor": "#E5ECF6",
           "caxis": {
            "gridcolor": "white",
            "linecolor": "white",
            "ticks": ""
           }
          },
          "title": {
           "x": 0.05
          },
          "xaxis": {
           "automargin": true,
           "gridcolor": "white",
           "linecolor": "white",
           "ticks": "",
           "title": {
            "standoff": 15
           },
           "zerolinecolor": "white",
           "zerolinewidth": 2
          },
          "yaxis": {
           "automargin": true,
           "gridcolor": "white",
           "linecolor": "white",
           "ticks": "",
           "title": {
            "standoff": 15
           },
           "zerolinecolor": "white",
           "zerolinewidth": 2
          }
         }
        },
        "title": {
         "text": "Top 25 music artists by album sales with certificates"
        },
        "xaxis": {
         "title": {
          "text": "Artist"
         },
         "type": "category"
        },
        "yaxis": {
         "title": {
          "text": "Units"
         }
        }
       }
      }
     },
     "metadata": {},
     "output_type": "display_data"
    }
   ],
   "source": [
    "import plotly.graph_objs as go\n",
    "import plotly.express as px\n",
    "import pandas as pd\n",
    "\n",
    "df = pd.read_csv('../cleaned/riaakaggle.csv')\n",
    "df = df.head(n=25)\n",
    "\n",
    "line = dict(color='black', width=0.4)\n",
    "\n",
    "data = [\n",
    "    go.Bar(name='Certified (Million albums sold)', x=df['Artist'], y=df['Certified Units'], marker=dict(color='rgb(102,194,165)', line=line)),\n",
    "    go.Bar(name='Gold (units)', x=df['Artist'], y=df['Gold'], marker=dict(color='rgb(245, 242, 76)', line=line)),\n",
    "    go.Bar(name='Platinum (units)', x=df['Artist'], y=df['Platinum'], marker=dict(color='rgb(160, 178, 198)', line=line)),\n",
    "    go.Bar(name='Multi-Platinum (units)', x=df['Artist'], y=df['Multi-Platinum'], marker=dict(color='rgb(148, 148, 143)', line=line)),\n",
    "    go.Bar(name='Diamond (units)', x=df['Artist'], y=df['Diamond'], marker=dict(color='rgb(160,225,245)', line=line))\n",
    "]\n",
    "\n",
    "layout = go.Layout(\n",
    "    title='Top 25 music artists by album sales with certificates',\n",
    "    height=600,\n",
    "    xaxis=go.layout.XAxis(\n",
    "        type='category',\n",
    "        title='Artist'\n",
    "    ),\n",
    "    yaxis=go.layout.YAxis(\n",
    "        title='Units'\n",
    "    ),\n",
    "    barmode='group'\n",
    ")\n",
    "\n",
    "fig = go.Figure(data=data, layout=layout)\n",
    "fig.show()"
   ]
  }
 ],
 "metadata": {
  "kernelspec": {
   "display_name": "Python 3.10.9 64-bit ('anaconda3')",
   "language": "python",
   "name": "python3"
  },
  "language_info": {
   "codemirror_mode": {
    "name": "ipython",
    "version": 3
   },
   "file_extension": ".py",
   "mimetype": "text/x-python",
   "name": "python",
   "nbconvert_exporter": "python",
   "pygments_lexer": "ipython3",
   "version": "3.11.3"
  },
  "orig_nbformat": 4,
  "vscode": {
   "interpreter": {
    "hash": "c6564aa6a2f4e82fb49fcbfb8b7176f850a095111b663f3b9889177c1fe98eb5"
   }
  }
 },
 "nbformat": 4,
 "nbformat_minor": 2
}
