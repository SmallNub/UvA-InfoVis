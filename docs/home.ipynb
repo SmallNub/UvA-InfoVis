{
 "cells": [
  {
   "attachments": {},
   "cell_type": "markdown",
   "metadata": {},
   "source": [
    "# Introduction"
   ]
  },
  {
   "attachments": {},
   "cell_type": "markdown",
   "metadata": {},
   "source": [
    "Music captures the soul of every human being. It has the ability to cross all cultural boundaries and language barriers. Although not everyone has the same taste in music, some people like pop others rap or electronic music or something else entirely. Some songs resonate more with people than other songs. These songs are often very popular and so are their creators, but which artist is the most popular and thus the most successful? And how would someone define popularity and success? To measure this, there are multiple metrics we could look at."
   ]
  },
  {
   "attachments": {},
   "cell_type": "markdown",
   "metadata": {},
   "source": [
    "## Who is the most successful music artist?\n",
    "From physically having to buy CDs to having all the music in the world available with the press of a button, there are still numbers to be crunched. But are record sales and amount of streams the only way to look at someone’s popularity and success? Or should we look at the awards and ratings each artist received? Or should we be looking at something else entirely?"
   ]
  },
  {
   "attachments": {},
   "cell_type": "markdown",
   "metadata": {},
   "source": [
    "### Raw numbers approach\n",
    "To determine how successful an artist is, we can look at the amount of listeners they get in total or per time period. By looking at these numbers we can determine which artist is the most popular among people. The artist with the most amount of views and such will be the most successful."
   ]
  },
  {
   "attachments": {},
   "cell_type": "markdown",
   "metadata": {},
   "source": [
    "### Ratings approach\n",
    "To determine how successful an artist is, we can look at the ratings they receive, amount of awards they won, where they stand in rankings and such. By looking at these statistics we can determine which is artist is the most popular among people and critics. The artist with the best statistics will be the most successful."
   ]
  }
 ],
 "metadata": {
  "language_info": {
   "name": "python"
  },
  "orig_nbformat": 4
 },
 "nbformat": 4,
 "nbformat_minor": 2
}
