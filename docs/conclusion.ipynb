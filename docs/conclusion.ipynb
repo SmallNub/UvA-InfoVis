{
 "cells": [
  {
   "attachments": {},
   "cell_type": "markdown",
   "metadata": {},
   "source": [
    "# Conclusion"
   ]
  },
  {
   "attachments": {},
   "cell_type": "markdown",
   "metadata": {},
   "source": [
    "Unfortunatly from all our data we can't make any concrete conclusions. Depending on the way you look at the data you get completely different answers. If you would just look at the amount of streams on spotify you get the "
   ]
  }
 ],
 "metadata": {
  "language_info": {
   "name": "python"
  },
  "orig_nbformat": 4
 },
 "nbformat": 4,
 "nbformat_minor": 2
}
