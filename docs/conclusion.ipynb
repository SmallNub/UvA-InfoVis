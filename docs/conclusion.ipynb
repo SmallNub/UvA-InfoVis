{
 "cells": [
  {
   "attachments": {},
   "cell_type": "markdown",
   "metadata": {},
   "source": [
    "# Conclusion"
   ]
  },
  {
   "attachments": {},
   "cell_type": "markdown",
   "metadata": {},
   "source": [
    "Unfortunatly from all our data we can't make any concrete conclusions. Depending on the way you look at the data you get completely different answers. If you would just look at the amount of streams on spotify you'll see that Bad Bunny is the most succesfull artist, he got the most streams from all songs in the weekly top 200 which makes him the most succesfull artists on spotify. But if we look at the popularity rating that spotify provides you will see that Tool only makes songs that become populair, which could make him the best spotify artist. Looking at the album sales mainly the old artist are present. You will see that The beatles have the most certified unit sales, while Elvin Presley got the most gold albums. Finaly you have Garth Brooks which got the most diamond albums, which is the highest honor. But if we end up looking at the grammies we see Adele at the top. So according to the critics Adele is the best artist. To try and connect our different graphs we decided to look at the correlation between the amount of streams and awards won. If we only looked at the artists that won an award and removed the extreme outliers we could see that the amount of awards does increase the streams you'll get on spotify. Unfortunatly it is still hard to see a clear winner using this graph. Since even tho adele has the most awards there are still artist that earned less rewards but got way more streams for their songs on spotify."
   ]
  }
 ],
 "metadata": {
  "language_info": {
   "name": "python"
  },
  "orig_nbformat": 4
 },
 "nbformat": 4,
 "nbformat_minor": 2
}
