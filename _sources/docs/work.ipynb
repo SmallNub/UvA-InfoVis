{
 "cells": [
  {
   "attachments": {},
   "cell_type": "markdown",
   "metadata": {},
   "source": [
    "# Work Distribution"
   ]
  },
  {
   "attachments": {},
   "cell_type": "markdown",
   "metadata": {},
   "source": [
    "The work for this project was distributed across all the group memebers.\n",
    "\n",
    "- Steven Dong - preprocessing, coding, writing text, dataset searching, website building\n",
    "- Colin de Koning - coding, writing text, dataset searching\n",
    "- Koen Woudstra - coding, writing text\n",
    "- Lucas van de berg - coding, writing text"
   ]
  }
 ],
 "metadata": {
  "language_info": {
   "name": "python"
  },
  "orig_nbformat": 4
 },
 "nbformat": 4,
 "nbformat_minor": 2
}
